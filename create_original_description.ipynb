{
  "cells": [
    {
      "cell_type": "markdown",
      "metadata": {
        "id": "view-in-github",
        "colab_type": "text"
      },
      "source": [
        "<a href=\"https://colab.research.google.com/github/Tomo-for-lab/Code-of-automating-DE/blob/main/create_original_description.ipynb\" target=\"_parent\"><img src=\"https://colab.research.google.com/assets/colab-badge.svg\" alt=\"Open In Colab\"/></a>"
      ]
    },
    {
      "cell_type": "markdown",
      "metadata": {
        "id": "diSB0y9ONYVQ"
      },
      "source": [
        "# general setting"
      ]
    },
    {
      "cell_type": "markdown",
      "metadata": {
        "id": "TBTF7a_5NlJO"
      },
      "source": [
        "# install & import library"
      ]
    },
    {
      "cell_type": "code",
      "execution_count": null,
      "metadata": {
        "id": "JHDgJyvcNo2r",
        "colab": {
          "base_uri": "https://localhost:8080/"
        },
        "outputId": "63cdbf41-bed3-424d-bca9-9dff62f65d9f"
      },
      "outputs": [
        {
          "output_type": "stream",
          "name": "stdout",
          "text": [
            "\u001b[2K     \u001b[90m━━━━━━━━━━━━━━━━━━━━━━━━━━━━━━━━━━━━━━━━\u001b[0m \u001b[32m244.3/244.3 kB\u001b[0m \u001b[31m5.0 MB/s\u001b[0m eta \u001b[36m0:00:00\u001b[0m\n",
            "\u001b[2K     \u001b[90m━━━━━━━━━━━━━━━━━━━━━━━━━━━━━━━━━━━━━━━━\u001b[0m \u001b[32m325.5/325.5 kB\u001b[0m \u001b[31m7.7 MB/s\u001b[0m eta \u001b[36m0:00:00\u001b[0m\n",
            "\u001b[2K     \u001b[90m━━━━━━━━━━━━━━━━━━━━━━━━━━━━━━━━━━━━━━━━\u001b[0m \u001b[32m29.2/29.2 MB\u001b[0m \u001b[31m29.9 MB/s\u001b[0m eta \u001b[36m0:00:00\u001b[0m\n",
            "\u001b[2K     \u001b[90m━━━━━━━━━━━━━━━━━━━━━━━━━━━━━━━━━━━━━━━━\u001b[0m \u001b[32m75.6/75.6 kB\u001b[0m \u001b[31m7.8 MB/s\u001b[0m eta \u001b[36m0:00:00\u001b[0m\n",
            "\u001b[2K     \u001b[90m━━━━━━━━━━━━━━━━━━━━━━━━━━━━━━━━━━━━━━━━\u001b[0m \u001b[32m1.1/1.1 MB\u001b[0m \u001b[31m59.3 MB/s\u001b[0m eta \u001b[36m0:00:00\u001b[0m\n",
            "\u001b[2K     \u001b[90m━━━━━━━━━━━━━━━━━━━━━━━━━━━━━━━━━━━━━━━━\u001b[0m \u001b[32m6.8/6.8 MB\u001b[0m \u001b[31m73.2 MB/s\u001b[0m eta \u001b[36m0:00:00\u001b[0m\n",
            "\u001b[2K     \u001b[90m━━━━━━━━━━━━━━━━━━━━━━━━━━━━━━━━━━━━━━━━\u001b[0m \u001b[32m202.9/202.9 kB\u001b[0m \u001b[31m19.7 MB/s\u001b[0m eta \u001b[36m0:00:00\u001b[0m\n",
            "\u001b[2K     \u001b[90m━━━━━━━━━━━━━━━━━━━━━━━━━━━━━━━━━━━━━━━━\u001b[0m \u001b[32m74.0/74.0 kB\u001b[0m \u001b[31m7.7 MB/s\u001b[0m eta \u001b[36m0:00:00\u001b[0m\n",
            "\u001b[2K     \u001b[90m━━━━━━━━━━━━━━━━━━━━━━━━━━━━━━━━━━━━━━━━\u001b[0m \u001b[32m65.1/65.1 kB\u001b[0m \u001b[31m4.7 MB/s\u001b[0m eta \u001b[36m0:00:00\u001b[0m\n",
            "\u001b[2K     \u001b[90m━━━━━━━━━━━━━━━━━━━━━━━━━━━━━━━━━━━━━━━━\u001b[0m \u001b[32m54.5/54.5 kB\u001b[0m \u001b[31m5.9 MB/s\u001b[0m eta \u001b[36m0:00:00\u001b[0m\n",
            "\u001b[2K     \u001b[90m━━━━━━━━━━━━━━━━━━━━━━━━━━━━━━━━━━━━━━━━\u001b[0m \u001b[32m77.9/77.9 kB\u001b[0m \u001b[31m6.4 MB/s\u001b[0m eta \u001b[36m0:00:00\u001b[0m\n",
            "\u001b[2K     \u001b[90m━━━━━━━━━━━━━━━━━━━━━━━━━━━━━━━━━━━━━━━━\u001b[0m \u001b[32m58.3/58.3 kB\u001b[0m \u001b[31m5.5 MB/s\u001b[0m eta \u001b[36m0:00:00\u001b[0m\n",
            "\u001b[2K     \u001b[90m━━━━━━━━━━━━━━━━━━━━━━━━━━━━━━━━━━━━━━━━\u001b[0m \u001b[32m207.3/207.3 kB\u001b[0m \u001b[31m20.3 MB/s\u001b[0m eta \u001b[36m0:00:00\u001b[0m\n",
            "\u001b[2K     \u001b[90m━━━━━━━━━━━━━━━━━━━━━━━━━━━━━━━━━━━━━━━━\u001b[0m \u001b[32m289.6/289.6 kB\u001b[0m \u001b[31m25.6 MB/s\u001b[0m eta \u001b[36m0:00:00\u001b[0m\n",
            "\u001b[2K     \u001b[90m━━━━━━━━━━━━━━━━━━━━━━━━━━━━━━━━━━━━━━━━\u001b[0m \u001b[32m62.7/62.7 kB\u001b[0m \u001b[31m6.3 MB/s\u001b[0m eta \u001b[36m0:00:00\u001b[0m\n",
            "\u001b[?25h"
          ]
        }
      ],
      "source": [
        "!pip install -q python-docx openai weave"
      ]
    },
    {
      "cell_type": "code",
      "execution_count": null,
      "metadata": {
        "id": "bcV5ufoFNzB0"
      },
      "outputs": [],
      "source": [
        "import pandas as pd\n",
        "from google.colab import userdata\n",
        "import os\n",
        "\n",
        "from openai import OpenAI\n",
        "from openai import AzureOpenAI\n",
        "import json\n",
        "import pandas as pd\n",
        "import os\n",
        "import glob\n",
        "import numpy as np\n",
        "from tqdm import tqdm\n",
        "from google.colab import userdata\n"
      ]
    },
    {
      "cell_type": "markdown",
      "source": [
        "Change the working directory to the path of the current notebook"
      ],
      "metadata": {
        "id": "OI0DpEd3_6rJ"
      }
    },
    {
      "cell_type": "code",
      "execution_count": null,
      "metadata": {
        "colab": {
          "base_uri": "https://localhost:8080/"
        },
        "id": "j8mwIHFzdEk8",
        "outputId": "21d5b9a9-529b-4240-cb61-a3a42cdfc94a"
      },
      "outputs": [
        {
          "output_type": "stream",
          "name": "stdout",
          "text": [
            "Mounted at /content/drive\n"
          ]
        }
      ],
      "source": [
        "from google.colab import drive\n",
        "# Mount Google Drive to access files stored in it\n",
        "drive.mount('/content/drive')\n",
        "\n",
        "\n",
        "def get_notebook_path():\n",
        "    # Get the path of the current Jupyter notebook\n",
        "    kernel_id = re.search('kernel-(.*).json', ipykernel.get_connection_file()).group(1)\n",
        "    servers = list_running_servers()\n",
        "    for ss in servers:\n",
        "        response = requests.get(urljoin(ss['url'], 'api/sessions'), params={'token': ss.get('token', '')})\n",
        "        for nn in json.loads(response.text):\n",
        "            if nn['kernel']['id'] == kernel_id:\n",
        "                relative_path = nn['notebook']['path']\n",
        "                return os.path.join(ss['notebook_dir'], relative_path)\n",
        "\n",
        "def get_folder_path(folder_id):\n",
        "    # Recursively get the full path of a folder given its ID\n",
        "    if folder_id:\n",
        "        folder = drive_service.files().get(fileId=folder_id, fields=\"name, parents\").execute()\n",
        "        folder_name = folder.get('name')\n",
        "        parents = folder.get('parents')\n",
        "        if parents:\n",
        "            parent_path = get_folder_path(parents[0])\n",
        "            return parent_path + '/' + folder_name\n",
        "        else:\n",
        "            return folder_name\n",
        "    return ''\n",
        "\n",
        "def get_file_path(file_id):\n",
        "    # Recursively get the full path of a file given its ID\n",
        "    file = drive_service.files().get(fileId=file_id, fields=\"name, parents\").execute()\n",
        "    file_name = file.get('name')\n",
        "    parents = file.get('parents')\n",
        "    if parents:\n",
        "        parent_id = parents[0]\n",
        "        parent_path = get_folder_path(parent_id)\n",
        "        return parent_path\n",
        "    else:\n",
        "        return file_name\n",
        "\n",
        "# Get the path of the current notebook\n",
        "notebook_path = get_notebook_path()\n",
        "\n",
        "\n",
        "# Authenticate and initialize the Google Drive API\n",
        "auth.authenticate_user()\n",
        "drive_service = build('drive', 'v3')\n",
        "\n",
        "# Extract the file ID from the notebook path (assumes file ID is part of the path)\n",
        "file_id = re.search(r'fileId=(\\w+)', notebook_path).group(1)\n",
        "\n",
        "# Get the full path of the file using its ID\n",
        "file_path = get_file_path(file_id)\n",
        "if 'マイドライブ' in file_path:\n",
        "    converted_path = re.sub(r'(^|/)マイドライブ($|/)', '/content/drive/MyDrive/', file_path)\n",
        "elif 'MyDrive' in file_path:\n",
        "    converted_path = re.sub(r'(^|/)MyDrive($|/)', '/content/drive/MyDrive/', file_path)\n",
        "else:\n",
        "    converted_path = '/content/drive/MyDrive/' + file_path\n",
        "\n",
        "# Change the working directory to the converted path\n",
        "os.chdir(converted_path)"
      ]
    },
    {
      "cell_type": "code",
      "execution_count": null,
      "metadata": {
        "id": "GZIBA6jWDZCO"
      },
      "outputs": [],
      "source": [
        "import weave\n",
        "\n",
        "weave.init(\"data_extraction_GPT_demo\")"
      ]
    },
    {
      "cell_type": "markdown",
      "metadata": {
        "id": "BJSMSQihDc1P"
      },
      "source": [
        "# Preparation of Azure for GPT"
      ]
    },
    {
      "cell_type": "code",
      "execution_count": null,
      "metadata": {
        "id": "KXRDevMBDcHc"
      },
      "outputs": [],
      "source": [
        "#deploy names\n",
        "deployment_ids = [\"gpt-4o\",\"gpt-4-turbo\",\"gpt-3.5-turbo\",\"text-embedding-ada-002\"]\n",
        "\n",
        "#If you use Azure\n",
        "#key\n",
        "API_KEY = userdata.get('Azure_API_key')\n",
        "RESOURCE_ENDPOINT = userdata.get('RESOURCE_ENDPOINT')\n",
        "AZURE_API_version = userdata.get('AZURE_API_version')\n",
        "\n",
        "#client\n",
        "client = AzureOpenAI(\n",
        "    # https://learn.microsoft.com/en-us/azure/ai-services/openai/reference#rest-api-versioning\n",
        "    api_version=AZURE_API_version,\n",
        "    # https://learn.microsoft.com/en-us/azure/cognitive-services/openai/how-to/create-resource?pivots=web-portal#create-a-resource\n",
        "    azure_endpoint=RESOURCE_ENDPOINT,\n",
        "    api_key=API_KEY\n",
        ")\n",
        "\n"
      ]
    },
    {
      "cell_type": "markdown",
      "metadata": {
        "id": "z3tYn4RqD_53"
      },
      "source": [
        "## Function for using the openAI API"
      ]
    },
    {
      "cell_type": "code",
      "execution_count": null,
      "metadata": {
        "id": "Tqi1QGo8ECum"
      },
      "outputs": [],
      "source": [
        "@weave.op() # 🐝\n",
        "def GPT_chat(messages):\n",
        "  response = client.chat.completions.create(\n",
        "        model=deployment_ids[0],\n",
        "        messages=messages,\n",
        "        temperature=0\n",
        "    )\n",
        "  return response"
      ]
    },
    {
      "cell_type": "markdown",
      "metadata": {
        "id": "9U1jrqHtMZwQ"
      },
      "source": [
        "#Data Extraction Manual\n",
        "\n",
        "The following was prepared from the data extraction manual (docx).\n",
        "\n",
        "The terminology was explained with reference to supplement.\n",
        "\n",
        "Japanese converted to English.\n",
        "\n"
      ]
    },
    {
      "cell_type": "code",
      "execution_count": null,
      "metadata": {
        "id": "9Zt_wGsgMZwV"
      },
      "outputs": [],
      "source": [
        "protocol = \"\"\"\n",
        "Data extraction tool for CBTICBNMA\n",
        "\n",
        "Papers can be located by searching the “AuthorYYYY” folder in the IncludedTrials folder. The primary paper is named AuthorYYYY, the registry ULR AuthorYYYY_NCT1234, the protocol AuthorYYYY_pr, the appendix/supplement files AuthorYYY_app or AuthorYYY_supp, and the secondary papers AuthorYYYY_s1,2,…\n",
        "\n",
        "When combining the results of two reviewers (say, AA and BB), make sure you name each data sheet differently (DE_AA_YYMMDD.xlsx) and you do NOT change those data.\n",
        "\n",
        "#DE\n",
        "\n",
        "<1. Characteristics of the studies>\n",
        "Name of the study, year of publication, country, study site (single or multi-center), study design (individually-randomized or cluster-randomized), population characteristics (mean age, number of women, definition of insomnia, number of patients with primary insomnia), intervention (components, delivery format, qualification of therapists [if applicable], duration), outcomes (scale used for the primary outcome)\n",
        "\n",
        "variable\n",
        "description\n",
        "Year: Publication year of the primary report. If only the results from registry are available, use the date when the results are posted instead.\n",
        "Ind_clu: Choose “individual” if individually randomized, choose “cluster” if it is a cluster RCT.\n",
        "\n",
        "\n",
        "ICC_for_cRCT: If it is a cluster RCT, extract Intra-cluster Correlation Coefficient. If it is not clearly stated, use “0.05”.\n",
        "\n",
        "Country: Countries where the trial took place.\n",
        "\n",
        "Single_multi: Whether the recruitment took place at a single or multi centers.\n",
        "\n",
        "Age_mean: Mean age of the patients in the arm\n",
        "\n",
        "Age_sd: SD of the above. SD=SE*sqrt(n), SD=(upper limit of 95%CI – mean)*sqrt(n)/1.96, SD= (Q3 − Q1)/1.35\n",
        "\n",
        "Age_n: The number of patients used for calculating Age_mean.\n",
        "\n",
        "F_n: Number of female in the arm\n",
        "\n",
        "Hyp_n: Number of patients using hypnotics. If the drug treatment is part of the protocol treatment, “Hyp_n” should be equal to “n” (all the participants). If the drug treatment is not part of the protocol treatment but just allowed, we will use the number at baseline. We will prioritise prescribed drugs to OTC drugs.\n",
        "\n",
        "Insomnia diagnosis: If more than one formal diagnostic criteria were mentioned, prioritise DSM, ICSD and then ICD. If you are using both ICD and DSM (if it says it matchs both), 1. choose formal_DSM (the one on top is preferred)\n",
        "1. formal_DSM\n",
        "1. formal_ICSD\n",
        "1. formal_ICD\n",
        "1. formal_Edinger2004\n",
        "2. informal_ISI\n",
        "2. informal_SCI\n",
        "2. informal_PSQI\n",
        "2. informal_AIS\n",
        "2. informal_other_self_reported_scales\n",
        "3. others\n",
        "\n",
        "Primary insomnia_n: The number of primary insomnia patients (insomnia without comorbidities) in the arm. If it is focused on primary insomnia, it should be same as “n”.\n",
        "\n",
        "Comorbidities:We will add phy_sleep_disorders to the complications category later, so please select phy_others and add OSA, etc. in the comments.\n",
        "0. primary_insomnia\n",
        "1. primary_secondary_mixed\n",
        "2. psy_MDD\n",
        "2. psy_anxiety\n",
        "2. psy_PTSD\n",
        "2. psy_schizophrenia_or_psychosis\n",
        "2. psy_bipolar\n",
        "2. psy_substance_dependence\n",
        "2. psy_others\n",
        "2. psy_mixed\n",
        "3. phy_dialysis\n",
        "3. phy_heart_failure\n",
        "3. phy_diabetes\n",
        "3. phy_fibromyalgia\n",
        "3. phy_cancer\n",
        "3. phy_steroid\n",
        "3. phy_pregnancy_perinatal\n",
        "3. phy_menopause\n",
        "3. phy_others\n",
        "3. phy_mixed\n",
        "4. psy_phy_mixed\n",
        "\n",
        "\n",
        "\n",
        "<2. Identification of components>\n",
        "Choose “1” if the component is included, and choose “0” if it is not included.\n",
        "TABLE 1 List of included components and their definitions.\n",
        "\n",
        "Educational components (EDU)\n",
        "\n",
        "se: Sleep hygiene education. General explanation about sleep (eg, sleep biology, characteristics of healthy sleep, changes in sleep patterns with aging, stress biology, and its impact on sleep) and general recommendations about lifestyle (eg, diet, exercise, substance use) and environmental factors (eg, light, noise, temperature) to improve sleep. This may include some elements of other components but those should not be the predominant part of the intervention.\n",
        "General education about other symptoms or diseases were classified as non-specific treatment effect.\n",
        "\n",
        "sd: Sleep diary. Self-monitoring of important daily sleep-related information using diary. This is\n",
        " considered to be present when clearly stated, or when sleep diary measures were reported. Wearable devices, polysomnography, actigraphy alone are not counted as sleep diary.\n",
        "\n",
        "Cognitive components (COG)\n",
        "\n",
        "cr: Cognitive restructuring. Skills to identify, challenge and change unhelpful beliefs about sleep that may disturb sleep. This may be simply called “cognitive therapy”. This may include behavioral experiments.\n",
        "\n",
        "th: Third wave components. This includes mindfulness and acceptance and commitment therapy (ACT). Mindfulness is a form of meditation emphasizing a nonjudgmental state of heightened or complete awareness of one’s thoughts, emotions, or experiences on a moment-to-moment basis. ACT focuses on accepting the feelings and thoughts associated with insomnia through value-based behaviors. “Meditation” is included here.\n",
        "\n",
        "cw: Constructive worry. Skills not to worry in bed by writing down the worries and their solutions before going to bed.\n",
        "\n",
        "sr: Sleep restriction. Skills to improve sleep by limiting time in bed. First, time in bed is restricted to the average sleep duration and then it is increased or decreased depending on sleep efficiency.\n",
        "\n",
        "sc: Stimulus control. Skills to re-associate the bed with sleep. Patients are instructed to; wake up at the same time every morning, refrain from daytime napping, go to bed only when sleepy, get out of bed when unable to sleep, and use the bed/bedroom for sleep and sex only.\n",
        "\n",
        "re: Relaxation. Structured exercises designed to reduce somatic tension (eg, abdominal breathing, progressive muscle relaxation, autogenic training) and cognitive arousal (eg, guided imagery training).\n",
        "\n",
        "pi: Paradoxical intention. Exercise to remain awake as long as possible after getting into bed.\n",
        "\n",
        "w: Waiting component. Participants are aware that they can receive an active treatment after a waiting phase. If patients allocated to the waiting list control condition receive some other potentially therapeutic components, we will consider both the waiting component and the therapeutic components to be present.\n",
        "\n",
        "dt: Conventional drug treatment. Rated positive when conventional drug treatment is present (drug treatment is part of the protocol treatment) or allowed (we will note the percentage of patients on drug). Recommended search term; “hypnotic,” “medication”\n",
        "\n",
        "ns: Non-specific treatment effect. Effect of an intervention due to the patients’ belief that they are receiving some form of treatment. Miscellaneous skills not covered in other sections and not expected to have large effect (i.e. quasi-desensitization) are classified as having non-specific treatment effect. General education about other symptoms or diseases were classified as non-specific treatment effect.\n",
        "\n",
        "Self-help, unguided, remote (NA): Default delivery format is self-help, unguided and remote, as it requires the least human resource.\n",
        "\n",
        "he: Human encouragement. Reminders provided by human beings to proceed with the self-help, remote treatment program via telephone or email. This should not contain any support related to the therapeutic contents. Peer support such as discussion group will be regarded as this component. We will code this component separately from interaction with therapists (in, gp, ff) to see if adding human encouragement to self-help, remote interventions good enough to be effective.\n",
        "A friendly reminder to \"Good luck and please proceed with the program.\" Only consider with self-help ones.\n",
        "\n",
        "tg: Therapeutic guidance. Therapeutic guidance in addition to self-help, remote interventions. This may be provided on a scheduled basis or as-needed basis. Technical support only is not included. We will code this component separately from interaction with therapists (in, gp, ff) to see if adding therapeutic guidance to self-help, remote interventions good enough to be effective.\n",
        "Only consider those that are self-help. What is Guided Self-Help\n",
        "\n",
        "ind: Individual. Individual interaction with therapists. The combination (in + ff) means individual, face-to-face sessions are held. The combination (in – ff) individual remote sessions, such as via telephone or videoconference.\n",
        "\n",
        "gp: Group. Interaction with therapists as a member of a group.\n",
        "\n",
        "ff: Face-to-face. Face-to-face interaction with therapists.\n",
        "\n",
        "ae: Automatic encouragement. Automated reminders to proceed with the treatment program. This can be added both to the self-help interventions or the interventions including interactions with therapists. This should not contain any support related to the therapeutic contents.\n",
        "Automatic reminders. Only consider with self-help ones.\n",
        "\n",
        "others: If there is anything particular to state.\n",
        "\n",
        "treatment_component,\n",
        "EDU, COG, BEH,\n",
        "treatment_group,\n",
        "treatment_binary\n",
        "These will be all automatically filled.\n",
        "\n",
        "\n",
        "Duration_weeks: Duration of the intervention in weeks. If it is a self-help intervention that can be accessed anytime, we will regard the number of sessions as duration in weeks.\n",
        "\n",
        "\n",
        "<3. Data to calculate effect sizes>\n",
        "Agreement between the two reviewers with regard to the primary outcome (odds ratio) will be reported as\n",
        "percentage agreement and intraclass correlation coefficient.\n",
        "\n",
        "n: The number of patients randomized to the arm.\n",
        "\n",
        "remission: The number of patients achieving remission at post-treatment or at its closest time point. If equidistant, we will use the longer timeframe.\n",
        "\n",
        "def_remission_response: Copy & paste the definition of remission and response stated by the author. If multiple definitions are stated for different measures, copy & paste them all.\n",
        "\n",
        "scale used: The scale used for the definition of remission. Prioritize; ISI > SCI > FOSQ > ESS > PSQI > AIS > other_self_reported_scales > WASO_SOL > WASO > SOL. We will use the definition stated by the author. Note that we will use sleep diary measures (subjective), not polysomnography measures (objective).\n",
        "\n",
        "n_CSA: The number of patients analyzed for completer set analyses. Number of people who performed CBTI (Not Number of people for whom outcomes could be measured) by researcher definition.\n",
        "\n",
        "r_CSA: The number of patients achieving remission in the completer set analyses.\n",
        "\n",
        "Severity_bl_mean: Mean severity measured at baseline.\n",
        "\n",
        "Severity_bl_sd: SD of the above. When only SE is given, please convert it to SD by calculating SE*n^(1/2).\n",
        "\n",
        "Severity_bl_n: The number of patients measured their severity at baseline.\n",
        "\n",
        "Severity_ch_mean: Extract this only when Severity_ep_mean, Severity _ep_sd and Sevrity_ep_n were not available.\n",
        "Mean change of Severity from baseline to the endpoint (post-treatment or at its closest time point).\n",
        "Change=Endpoint – Baseline. In case of improvement, ISI, PSQI and SOL, WASO will be negative values; SE and TST will be positive values.\n",
        "\n",
        "Severity_ch_sd: Extract this only when Severity_ep_mean, Severity _ep_sd and Sevrity_ep_n were not available.\n",
        "SD of the above. When only SE is given, please convert it to SD by calculating SE*n^(1/2).\n",
        "\n",
        "Severity_ch_n: Extract this only when Severity_ep_mean, Severity _ep_sd and Sevrity_ep_n were not available.\n",
        "The number of patients measured their severity change from baseline to the endpoint (post-treatment or at its closest time point).\n",
        "\n",
        "Severity_ep_mean: Mean severity measured at post-treatment or at its closest time point.\n",
        "\n",
        "Severity_ep_sd: SD of the above. When only SE is given, please convert it to SD by calculating SE*n^(1/2).\n",
        "\n",
        "Severity_ep_n: The number of patients measured their severity at post-treatment or at its closest time point.\n",
        "If ITT is used, this should be same as “n”.　Note, however, that in mITT, it may slightly differ from n. Note that \"n\" is the number of people randomly assigned, whereas the number of people extracted here is the number of people used to calculate mean and sd above.\n",
        "\"mixed model\", \"mixed model repeated measures (MMRM)\", \"linear mixed model\", \"growth curve analysis \", \"hierarchical model\" is used, and if the outcome being extracted is actually taken from LS means & SE calculated by MMRM, n is the number of people randomized, or the number of people included in the analysis.\n",
        "\n",
        "Severity_scale: The scale used for measuring the sleep-related severity. Prioritize; ISI > SCI>  FOSQ > ESS > PSQI > AIS > other_self_reported_scales > WASO_SOL > WASO > SOL. We will use the definition stated by the author.\n",
        "You may be using sleep quality rating as self_rating_other. This is closer to ISI than SOL or WASO, so use this. It is very important to know whether a larger or smaller number is better, so if you use something other than the number in the pull-down menu, please specify in the comments section whether you prefer a larger or smaller number.\n",
        "\n",
        "r_weeks: Timepoint of the measurement of the primary outcome in weeks. If they measured at the end of the treatment, it will be ”0”. If they measured 4 weeks post-treatment, it will be “4”.\n",
        "\n",
        "dropout: The number of patients dropped out from the study for any reason (=the number of patients whose outcome data not available). Those who are lost to follow-up (assessment at post-treatment) will be assumed to have dropped off.\n",
        "\n",
        "SE_mean: Mean sleep efficiency in %.\n",
        "Secondary outcomes are basically the values at the endpoint; for studies with change scores, enter the absolute value of baseline+change, and thus the SD is not known. For example, if the SE baseline is 72% and the change is +9% (SD 5%), enter 72+9=81 and use \"*\" for SD.\n",
        "\n",
        "SE_sd:　Standard deviation of the above. When only SE is given, please convert it to SD by calculating SE*n^(1/2).\n",
        "\n",
        "SE_n:　The number of patients measured for the numbers above. If ITT is used, this should be same as “n”.\n",
        "\n",
        "TST_mean: Mean total sleep time in minutes.\n",
        "\n",
        "TST_sd: Standard deviation of the above. When only SE is given, please convert it to SD by calculating SE*n^(1/2).\n",
        "\n",
        "TST_n: The number of patients measured for the numbers above. If ITT is used, this should be same as “n”.\n",
        "\n",
        "SOL_mean: Mean sleep onset latency in minutes.\n",
        "\n",
        "SOL_sd: Standard deviation of the above. When only SE is given, please convert it to SD by calculating SE*n^(1/2).\n",
        "\n",
        "SOL_n: The number of patients measured for the numbers above. If ITT is used, this should be same as “n”.\n",
        "\n",
        "WASO_mean: Mean wake after sleep onset in minutes.\n",
        "\n",
        "WASO_sd: When only SE is given, please convert it to SD by calculating SE*n^(1/2).\n",
        "\n",
        "WASO_n: The number of patients measured for the numbers above. If ITT is used, this should be same as “n”.\n",
        "\n",
        "Sleep_diary_weeks: Timepoint when the sleep diary was measured\n",
        "\n",
        "r_long: The number of patients achieving remission at long-term follow-up (longest follow-up between 3 to 12 months)\n",
        "The same point in time as the primary outcome may be adopted.\n",
        "\n",
        "r_long_scale_used: Scales that were used for counting remission at long-term.\n",
        "\n",
        "Severity_mean_long: Mean severity at long-term.\n",
        "\n",
        "Severity_sd_long: Standard deviation of the above.\n",
        "\n",
        "Severity_n_long: The number of patients measured for the numbers above. If ITT is used, this should be same as “n”.\n",
        "\n",
        "Severity_ch_mean_long: Extract this only when Severity_mean_long, Severity _ sd_long and Sevrity_n_long were not available.\n",
        "\n",
        "Severity_ch_sd_long: Extract this only when Severity_mean_long, Severity _ sd_long and Sevrity_n_long were not available.\n",
        "\n",
        "Severity_ch_n_long: Extract this only when Severity_mean_long, Severity _ sd_long and Sevrity_n_long were not available.\n",
        "If ITT is used, this should be same as “n”.\n",
        "\n",
        "r_weeks_long: Timepoint of the measurement of the long-term follow-up in weeks.\n",
        "Time of long-term F/U is weeks from baseline = duration of treatment + follow-up period (e.g., 6 weeks of treatment followed by 6 months of follow-up: 6+6*4=30 weeks)\n",
        "\n",
        "\n",
        "SD=SE*sqrt(n)\n",
        "　If mixed model repeated measures were used, n is the number of people randomized or included in the analysis.\n",
        "SD=(upper limit of [100-x]%CI - mean)*sqrt(n)/ NORM.S.INV([100-x/2]/100)\n",
        "  If 90%CI, then ((upper limit of 90%CI - mean)*sqrt(n)/ norm.s.inv(0.95))\n",
        "If 95%CI, then ((upper limit of 95%CI - mean)*sqrt(n)/ norm.s.inv(0.975))\n",
        "If 99%CI, then ((upper limit of 99%CI - mean)*sqrt(n)/ norm.s.inv(0.995))\n",
        "SD= (Q3 − Q1)/1.35\n",
        "\n",
        "\"\"\""
      ]
    },
    {
      "cell_type": "markdown",
      "metadata": {
        "id": "IvbMe8UPMZwX"
      },
      "source": [
        "##Prepare variables of DE sheet"
      ]
    },
    {
      "cell_type": "code",
      "execution_count": null,
      "metadata": {
        "colab": {
          "base_uri": "https://localhost:8080/"
        },
        "id": "yTBaOQMFMZwX",
        "outputId": "38bf6b67-2244-47c0-abbf-b34bdbf4428e"
      },
      "outputs": [
        {
          "output_type": "stream",
          "name": "stdout",
          "text": [
            "['Year', 'ind_clu', 'ICC_for_cRCT', 'Country', 'Single_multi', 'Age_mean', 'Age_sd', 'Age_n', 'F_n', 'Hyp_n', 'Insomnia_diagnosis', 'Primary_insomnia_n', 'Comorbidities', 'se', 'sd', 'cr', 'cw', 'sr', 'sc', 're', 'pi', 'w', 'dt', 'ns', 'he', 'tg', 'ind', 'gp', 'ff', 'ae', 'n', 'remission', 'def_remission_response', 'scale_used', 'Severity_bl_mean', 'Severity_bl_sd', 'Severity_bl_n', 'Severity_ch_mean', 'Severity_ch_sd', 'Severity_ch_n', 'Severity_ep_mean', 'Severity_ep_sd', 'Severity_ep_n', 'Severity_scale', 'dropout', 'SE_mean', 'SE_sd', 'SE_n', 'TST_mean', 'TST_sd', 'TST_n', 'SOL_mean', 'SOL_sd', 'SOL_n', 'WASO_mean', 'WASO_sd', 'WASO_n', 'Sleep_diary_weeks', 'r_long', 'r_long_scale_used', 'Severity_mean_long', 'Severity_sd_long', 'Severity_n_long', 'Severity_ch_mean_long', 'Severity_ch_sd_long', 'Severity_ch_n_long', 'r_weeks_long']\n"
          ]
        }
      ],
      "source": [
        "# Load the Excel file\n",
        "file_path = 'DE.xlsx'\n",
        "df = pd.read_excel(file_path)\n",
        "\n",
        "# Select the first row and drop any NaN values, then get the values as a list\n",
        "selected_row = df.iloc[0].dropna().values\n",
        "\n",
        "# Select the part of the row excluding RoB (Risk of Bias) related columns\n",
        "_sheet_array = selected_row[0:92]\n",
        "\n",
        "#In \"study\", \"Arm\", \"Corresponding_Author\", \"Mail\", \"XXX\", not enough data was extracted.\n",
        "#\"ir\", \"r_imputed\", \"r_imputed_long\", \"r_imputed_long_scale_used\" are not present in the protocol\n",
        "#\"treatment_component\", \"EDU\", \"COG\", \"BEH\", \"treatment_group\", \"treatment_binary\" are automatically calculated in the Excel file\n",
        "#\"Comment\", \"others\" are excluded\n",
        "excluded_variables = [\"study\", \"Arm\", \"Corresponding_Author\", \"Mail\", \"ir\", \"XXX\", \"treatment_component\", \"EDU\", \"COG\", \"BEH\", \"treatment_group\", \"treatment_binary\",\"r_imputed\", \"r_imputed_long\", \"r_imputed_long_scale_used\", \"Comment\", \"others\"]\n",
        "\n",
        "#'th', 'duration_weeks', 'n_CSA', 'r_CSA', 'r_weeks' were not included in the published version\n",
        "excluded_variables.extend(['th', 'duration_weeks', 'n_CSA', 'r_CSA', 'r_weeks'])\n",
        "\n",
        "# Create the final sheet array excluding the specified variables\n",
        "sheet_array = [item for item in _sheet_array if item not in excluded_variables]\n",
        "\n",
        "# Print the result\n",
        "print(sheet_array)"
      ]
    },
    {
      "cell_type": "code",
      "execution_count": null,
      "metadata": {
        "colab": {
          "base_uri": "https://localhost:8080/"
        },
        "id": "JU7evmFUMZwY",
        "outputId": "541cb669-009b-4439-dee5-d857918edb45"
      },
      "outputs": [
        {
          "output_type": "stream",
          "name": "stdout",
          "text": [
            "ae\n"
          ]
        }
      ],
      "source": [
        "print(sheet_array[29])"
      ]
    },
    {
      "cell_type": "markdown",
      "metadata": {
        "id": "fSBHHi2qMZwY"
      },
      "source": [
        "##To create original descriptions\n"
      ]
    },
    {
      "cell_type": "code",
      "execution_count": null,
      "metadata": {
        "id": "93aOaK0CMZwZ"
      },
      "outputs": [],
      "source": [
        "# Define the system message content\n",
        "system_content = \"\"\"\n",
        "You are a systematic reviewer. I want you to write a JSON structure to extract the variables of a full text article for function calling. You should delete the notes or memos columns.\n",
        "Do not change the number of columns and those names.\n",
        "You have to write descriptions in as much details as you can according to the inputted data extraction protocol.\n",
        "You can include concrete examples used in the protocol.\n",
        "Include the following three perspectives: what kind of data you extracted, when the extracted data was generated (randomized, baseline, post-treatment, etc.), and the arm from which it was extracted.\n",
        "\n",
        "You can write the contents of the protocol as is, or you can supplement the text to make it easier for you to understand when extracting the data.\n",
        "The type of data extraction is number or string.\n",
        "\"\"\"\n",
        "\n",
        "# Define the user message content\n",
        "user_content = \"\"\"\n",
        "You are a systematic reviewer. I want you to write a JSON structure to extract the variables of a full text article for function calling. You should delete the notes or memos columns.\n",
        "Do not change the number of columns and those names.\n",
        "You have to write descriptions in as much details as you can according to the inputted data extraction protocol.\n",
        "Include the following three perspectives: what kind of data you extracted, when the extracted data was generated (randomized, baseline, post-treatment, etc.), and the arm from which it was extracted.\n",
        "\n",
        "You can write the contents of the protocol as is, or you can supplement the text to make it easier for you to understand when extracting the data.\n",
        "The type of data extraction is number or string.\n",
        "\n",
        "example:\n",
        "\n",
        "        {\n",
        "          \"name\": \"name of the variable\",\n",
        "          \"type\": \"string\",\n",
        "          \"description\": \"the explation of what the variable is and how you extract the variable. \"\n",
        "        }\n",
        "\n",
        "The columns names are as follows:\n",
        "\"\"\"\n",
        "\n",
        "# Add the first 30 column names to the user content\n",
        "for i in range(30):\n",
        "  user_content += str(sheet_array[i]) + \", \"\n",
        "\n",
        "# Add a reference to the data extraction protocol\n",
        "user_content += \"\"\"\n",
        "this is the data extraction protocol. Please use to write the JSON format.\n",
        "\"\"\"\n",
        "\n",
        "user_content += protocol"
      ]
    },
    {
      "cell_type": "code",
      "execution_count": null,
      "metadata": {
        "id": "PsnkoM_-MZwZ"
      },
      "outputs": [],
      "source": [
        "weave.init(\"creating_original_description\")"
      ]
    },
    {
      "cell_type": "code",
      "execution_count": null,
      "metadata": {
        "id": "FH0EHBs0MZwZ"
      },
      "outputs": [],
      "source": [
        "# Create the message list for the GPT function call\n",
        "messages=[]\n",
        "messages.append({\"role\": \"system\", \"content\": system_content})\n",
        "messages.append({\"role\": \"user\", \"content\": user_content})\n",
        "\n",
        "# Call the GPT function to generate the response\n",
        "response_1 = GPT_chat(messages)"
      ]
    },
    {
      "cell_type": "code",
      "execution_count": null,
      "metadata": {
        "colab": {
          "base_uri": "https://localhost:8080/"
        },
        "id": "6iIZParlMZwa",
        "outputId": "b657984d-0f6d-4c27-acee-b5b947ef0664"
      },
      "outputs": [
        {
          "output_type": "execute_result",
          "data": {
            "text/plain": [
              "ChatCompletion(id='chatcmpl-9YP45LANjbW7TXCeCZsayV5sxy9Hq', choices=[Choice(finish_reason='stop', index=0, logprobs=None, message=ChatCompletionMessage(content='```json\\n[\\n  {\\n    \"name\": \"Year\",\\n    \"type\": \"number\",\\n    \"description\": \"Publication year of the primary report. If only the results from registry are available, use the date when the results are posted instead.\"\\n  },\\n  {\\n    \"name\": \"ind_clu\",\\n    \"type\": \"string\",\\n    \"description\": \"Study design: Choose \\'individual\\' if individually randomized, choose \\'cluster\\' if it is a cluster RCT.\"\\n  },\\n  {\\n    \"name\": \"ICC_for_cRCT\",\\n    \"type\": \"number\",\\n    \"description\": \"If it is a cluster RCT, extract Intra-cluster Correlation Coefficient. If it is not clearly stated, use \\'0.05\\'.\"\\n  },\\n  {\\n    \"name\": \"Country\",\\n    \"type\": \"string\",\\n    \"description\": \"Countries where the trial took place.\"\\n  },\\n  {\\n    \"name\": \"Single_multi\",\\n    \"type\": \"string\",\\n    \"description\": \"Whether the recruitment took place at a single or multi centers.\"\\n  },\\n  {\\n    \"name\": \"Age_mean\",\\n    \"type\": \"number\",\\n    \"description\": \"Mean age of the patients in the arm.\"\\n  },\\n  {\\n    \"name\": \"Age_sd\",\\n    \"type\": \"number\",\\n    \"description\": \"Standard deviation of the mean age. SD can be calculated using SE or CI if not directly provided.\"\\n  },\\n  {\\n    \"name\": \"Age_n\",\\n    \"type\": \"number\",\\n    \"description\": \"The number of patients used for calculating Age_mean.\"\\n  },\\n  {\\n    \"name\": \"F_n\",\\n    \"type\": \"number\",\\n    \"description\": \"Number of female patients in the arm.\"\\n  },\\n  {\\n    \"name\": \"Hyp_n\",\\n    \"type\": \"number\",\\n    \"description\": \"Number of patients using hypnotics. If the drug treatment is part of the protocol treatment, \\'Hyp_n\\' should be equal to \\'n\\' (all the participants). If the drug treatment is not part of the protocol treatment but just allowed, use the number at baseline.\"\\n  },\\n  {\\n    \"name\": \"Insomnia_diagnosis\",\\n    \"type\": \"string\",\\n    \"description\": \"Formal and informal diagnostic criteria for insomnia. Prioritize DSM, ICSD, ICD, and other formal criteria over informal self-reported scales.\"\\n  },\\n  {\\n    \"name\": \"Primary_insomnia_n\",\\n    \"type\": \"number\",\\n    \"description\": \"The number of primary insomnia patients (insomnia without comorbidities) in the arm. If it is focused on primary insomnia, it should be same as \\'n\\'.\"\\n  },\\n  {\\n    \"name\": \"Comorbidities\",\\n    \"type\": \"string\",\\n    \"description\": \"Comorbid conditions categorized into primary insomnia, psychiatric, physical, and mixed conditions.\"\\n  },\\n  {\\n    \"name\": \"se\",\\n    \"type\": \"number\",\\n    \"description\": \"Sleep hygiene education component. Choose \\'1\\' if included, \\'0\\' if not.\"\\n  },\\n  {\\n    \"name\": \"sd\",\\n    \"type\": \"number\",\\n    \"description\": \"Sleep diary component. Choose \\'1\\' if included, \\'0\\' if not.\"\\n  },\\n  {\\n    \"name\": \"cr\",\\n    \"type\": \"number\",\\n    \"description\": \"Cognitive restructuring component. Choose \\'1\\' if included, \\'0\\' if not.\"\\n  },\\n  {\\n    \"name\": \"cw\",\\n    \"type\": \"number\",\\n    \"description\": \"Constructive worry component. Choose \\'1\\' if included, \\'0\\' if not.\"\\n  },\\n  {\\n    \"name\": \"sr\",\\n    \"type\": \"number\",\\n    \"description\": \"Sleep restriction component. Choose \\'1\\' if included, \\'0\\' if not.\"\\n  },\\n  {\\n    \"name\": \"sc\",\\n    \"type\": \"number\",\\n    \"description\": \"Stimulus control component. Choose \\'1\\' if included, \\'0\\' if not.\"\\n  },\\n  {\\n    \"name\": \"re\",\\n    \"type\": \"number\",\\n    \"description\": \"Relaxation component. Choose \\'1\\' if included, \\'0\\' if not.\"\\n  },\\n  {\\n    \"name\": \"pi\",\\n    \"type\": \"number\",\\n    \"description\": \"Paradoxical intention component. Choose \\'1\\' if included, \\'0\\' if not.\"\\n  },\\n  {\\n    \"name\": \"w\",\\n    \"type\": \"number\",\\n    \"description\": \"Waiting component. Choose \\'1\\' if included, \\'0\\' if not.\"\\n  },\\n  {\\n    \"name\": \"dt\",\\n    \"type\": \"number\",\\n    \"description\": \"Conventional drug treatment component. Choose \\'1\\' if included, \\'0\\' if not.\"\\n  },\\n  {\\n    \"name\": \"ns\",\\n    \"type\": \"number\",\\n    \"description\": \"Non-specific treatment effect component. Choose \\'1\\' if included, \\'0\\' if not.\"\\n  },\\n  {\\n    \"name\": \"he\",\\n    \"type\": \"number\",\\n    \"description\": \"Human encouragement component. Choose \\'1\\' if included, \\'0\\' if not.\"\\n  },\\n  {\\n    \"name\": \"tg\",\\n    \"type\": \"number\",\\n    \"description\": \"Therapeutic guidance component. Choose \\'1\\' if included, \\'0\\' if not.\"\\n  },\\n  {\\n    \"name\": \"ind\",\\n    \"type\": \"number\",\\n    \"description\": \"Individual interaction with therapists. Choose \\'1\\' if included, \\'0\\' if not.\"\\n  },\\n  {\\n    \"name\": \"gp\",\\n    \"type\": \"number\",\\n    \"description\": \"Group interaction with therapists. Choose \\'1\\' if included, \\'0\\' if not.\"\\n  },\\n  {\\n    \"name\": \"ff\",\\n    \"type\": \"number\",\\n    \"description\": \"Face-to-face interaction with therapists. Choose \\'1\\' if included, \\'0\\' if not.\"\\n  },\\n  {\\n    \"name\": \"ae\",\\n    \"type\": \"number\",\\n    \"description\": \"Automatic encouragement component. Choose \\'1\\' if included, \\'0\\' if not.\"\\n  }\\n]\\n```', role='assistant', function_call=None, tool_calls=None), content_filter_results={'hate': {'filtered': False, 'severity': 'safe'}, 'self_harm': {'filtered': False, 'severity': 'safe'}, 'sexual': {'filtered': False, 'severity': 'safe'}, 'violence': {'filtered': False, 'severity': 'safe'}})], created=1717986529, model='gpt-4o-2024-05-13', object='chat.completion', system_fingerprint='fp_5f4bad809a', usage=CompletionUsage(completion_tokens=1305, prompt_tokens=4085, total_tokens=5390), prompt_filter_results=[{'prompt_index': 0, 'content_filter_results': {'hate': {'filtered': False, 'severity': 'safe'}, 'self_harm': {'filtered': False, 'severity': 'safe'}, 'sexual': {'filtered': False, 'severity': 'safe'}, 'violence': {'filtered': False, 'severity': 'safe'}}}])"
            ]
          },
          "metadata": {},
          "execution_count": 32
        }
      ],
      "source": [
        "response_1"
      ]
    },
    {
      "cell_type": "code",
      "execution_count": null,
      "metadata": {
        "id": "uhPsI2aEMZwa"
      },
      "outputs": [],
      "source": [
        "system_content = \"\"\"\n",
        "You are a systematic reviewer. I want you to write a JSON structure to extract the variables of a full text article for function calling. You should delete the notes or memos columns.\n",
        "Do not change the number of columns and those names.\n",
        "You have to write descriptions in as much details as you can according to the inputted data extraction protocol.\n",
        "\n",
        "You can write the contents of the protocol as is, or you can supplement the text to make it easier for you to understand when extracting the data.\n",
        "The type of data extraction is number or string.\n",
        "\"\"\"\n",
        "user_content = \"\"\"\n",
        "You are a systematic reviewer. I want you to write a JSON structure to extract the variables of a full text article for function calling. You should delete the notes or memos columns.\n",
        "Do not change the number of columns and those names.\n",
        "You have to write descriptions in as much details as you can according to the inputted data extraction protocol.\n",
        "\n",
        "You can write the contents of the protocol as is, or you can supplement the text to make it easier for you to understand when extracting the data.\n",
        "The type of data extraction is number or string.\n",
        "\n",
        "example:\n",
        "\n",
        "        {\n",
        "          \"name\": \"name of the variable\",\n",
        "          \"type\": \"string\",\n",
        "          \"description\": \"the explation of what the variable is and how you extract the variable\"\n",
        "        }\n",
        "\n",
        "The columns names are as follows:\n",
        "\"\"\"\n",
        "\n",
        "# Add the remaining 30 column names to the user content\n",
        "for i in range(30, len(sheet_array)):\n",
        "  user_content += str(sheet_array[i]) + \", \"\n",
        "\n",
        "user_content += \"\"\"\n",
        "this is the data extraction protocol. Please use to write the JSON format.\n",
        "\"\"\"\n",
        "\n",
        "user_content += protocol"
      ]
    },
    {
      "cell_type": "code",
      "execution_count": null,
      "metadata": {
        "id": "qnrPT-hiMZwa"
      },
      "outputs": [],
      "source": [
        "weave.init(\"creating_original_description\")"
      ]
    },
    {
      "cell_type": "code",
      "execution_count": null,
      "metadata": {
        "id": "LsVCCyiDMZwb"
      },
      "outputs": [],
      "source": [
        "messages=[]\n",
        "messages.append({\"role\": \"system\", \"content\": system_content})\n",
        "messages.append({\"role\": \"user\", \"content\": user_content})\n",
        "\n",
        "response_2 = GPT_chat(messages)"
      ]
    },
    {
      "cell_type": "code",
      "execution_count": null,
      "metadata": {
        "colab": {
          "base_uri": "https://localhost:8080/"
        },
        "id": "F2t5pPxzMZwb",
        "outputId": "56b60889-fd0a-4fbc-8b65-72d400b86f66"
      },
      "outputs": [
        {
          "output_type": "execute_result",
          "data": {
            "text/plain": [
              "ChatCompletion(id='chatcmpl-9TBCZxnWSDJSSt15PgW30cFJYpgXQ', choices=[Choice(finish_reason='stop', index=0, logprobs=None, message=ChatCompletionMessage(content='```json\\n[\\n  {\\n    \"name\": \"n\",\\n    \"type\": \"number\",\\n    \"description\": \"The number of patients randomized to the arm.\"\\n  },\\n  {\\n    \"name\": \"remission\",\\n    \"type\": \"number\",\\n    \"description\": \"The number of patients achieving remission at post-treatment or at its closest time point. If equidistant, use the longer timeframe.\"\\n  },\\n  {\\n    \"name\": \"def_remission_response\",\\n    \"type\": \"string\",\\n    \"description\": \"Copy & paste the definition of remission and response stated by the author. If multiple definitions are stated for different measures, copy & paste them all.\"\\n  },\\n  {\\n    \"name\": \"scale_used\",\\n    \"type\": \"string\",\\n    \"description\": \"The scale used for the definition of remission. Prioritize; ISI > SCI > FOSQ > ESS > PSQI > AIS > other_self_reported_scales > WASO_SOL > WASO > SOL. Use the definition stated by the author.\"\\n  },\\n  {\\n    \"name\": \"Severity_bl_mean\",\\n    \"type\": \"number\",\\n    \"description\": \"Mean severity measured at baseline.\"\\n  },\\n  {\\n    \"name\": \"Severity_bl_sd\",\\n    \"type\": \"number\",\\n    \"description\": \"Standard deviation of the mean severity measured at baseline. When only SE is given, convert it to SD by calculating SE*n^(1/2).\"\\n  },\\n  {\\n    \"name\": \"Severity_bl_n\",\\n    \"type\": \"number\",\\n    \"description\": \"The number of patients measured for their severity at baseline.\"\\n  },\\n  {\\n    \"name\": \"Severity_ch_mean\",\\n    \"type\": \"number\",\\n    \"description\": \"Mean change of severity from baseline to the endpoint (post-treatment or at its closest time point). Extract this only when Severity_ep_mean, Severity_ep_sd, and Severity_ep_n are not available.\"\\n  },\\n  {\\n    \"name\": \"Severity_ch_sd\",\\n    \"type\": \"number\",\\n    \"description\": \"Standard deviation of the mean change of severity from baseline to the endpoint. Extract this only when Severity_ep_mean, Severity_ep_sd, and Severity_ep_n are not available. When only SE is given, convert it to SD by calculating SE*n^(1/2).\"\\n  },\\n  {\\n    \"name\": \"Severity_ch_n\",\\n    \"type\": \"number\",\\n    \"description\": \"The number of patients measured for their severity change from baseline to the endpoint. Extract this only when Severity_ep_mean, Severity_ep_sd, and Severity_ep_n are not available.\"\\n  },\\n  {\\n    \"name\": \"Severity_ep_mean\",\\n    \"type\": \"number\",\\n    \"description\": \"Mean severity measured at post-treatment or at its closest time point.\"\\n  },\\n  {\\n    \"name\": \"Severity_ep_sd\",\\n    \"type\": \"number\",\\n    \"description\": \"Standard deviation of the mean severity measured at post-treatment or at its closest time point. When only SE is given, convert it to SD by calculating SE*n^(1/2).\"\\n  },\\n  {\\n    \"name\": \"Severity_ep_n\",\\n    \"type\": \"number\",\\n    \"description\": \"The number of patients measured for their severity at post-treatment or at its closest time point.\"\\n  },\\n  {\\n    \"name\": \"Severity_scale\",\\n    \"type\": \"string\",\\n    \"description\": \"The scale used for measuring the sleep-related severity. Prioritize; ISI > SCI > FOSQ > ESS > PSQI > AIS > other_self_reported_scales > WASO_SOL > WASO > SOL. Use the definition stated by the author.\"\\n  },\\n  {\\n    \"name\": \"dropout\",\\n    \"type\": \"number\",\\n    \"description\": \"The number of patients who dropped out from the study for any reason. Those who are lost to follow-up will be assumed to have dropped off.\"\\n  },\\n  {\\n    \"name\": \"SE_mean\",\\n    \"type\": \"number\",\\n    \"description\": \"Mean sleep efficiency in percentage.\"\\n  },\\n  {\\n    \"name\": \"SE_sd\",\\n    \"type\": \"number\",\\n    \"description\": \"Standard deviation of the mean sleep efficiency. When only SE is given, convert it to SD by calculating SE*n^(1/2).\"\\n  },\\n  {\\n    \"name\": \"SE_n\",\\n    \"type\": \"number\",\\n    \"description\": \"The number of patients measured for sleep efficiency. If ITT is used, this should be the same as \\'n\\'.\"\\n  },\\n  {\\n    \"name\": \"TST_mean\",\\n    \"type\": \"number\",\\n    \"description\": \"Mean total sleep time in minutes.\"\\n  },\\n  {\\n    \"name\": \"TST_sd\",\\n    \"type\": \"number\",\\n    \"description\": \"Standard deviation of the mean total sleep time. When only SE is given, convert it to SD by calculating SE*n^(1/2).\"\\n  },\\n  {\\n    \"name\": \"TST_n\",\\n    \"type\": \"number\",\\n    \"description\": \"The number of patients measured for total sleep time. If ITT is used, this should be the same as \\'n\\'.\"\\n  },\\n  {\\n    \"name\": \"SOL_mean\",\\n    \"type\": \"number\",\\n    \"description\": \"Mean sleep onset latency in minutes.\"\\n  },\\n  {\\n    \"name\": \"SOL_sd\",\\n    \"type\": \"number\",\\n    \"description\": \"Standard deviation of the mean sleep onset latency. When only SE is given, convert it to SD by calculating SE*n^(1/2).\"\\n  },\\n  {\\n    \"name\": \"SOL_n\",\\n    \"type\": \"number\",\\n    \"description\": \"The number of patients measured for sleep onset latency. If ITT is used, this should be the same as \\'n\\'.\"\\n  },\\n  {\\n    \"name\": \"WASO_mean\",\\n    \"type\": \"number\",\\n    \"description\": \"Mean wake after sleep onset in minutes.\"\\n  },\\n  {\\n    \"name\": \"WASO_sd\",\\n    \"type\": \"number\",\\n    \"description\": \"Standard deviation of the mean wake after sleep onset. When only SE is given, convert it to SD by calculating SE*n^(1/2).\"\\n  },\\n  {\\n    \"name\": \"WASO_n\",\\n    \"type\": \"number\",\\n    \"description\": \"The number of patients measured for wake after sleep onset. If ITT is used, this should be the same as \\'n\\'.\"\\n  },\\n  {\\n    \"name\": \"Sleep_diary_weeks\",\\n    \"type\": \"number\",\\n    \"description\": \"Timepoint when the sleep diary was measured in weeks.\"\\n  },\\n  {\\n    \"name\": \"r_long\",\\n    \"type\": \"number\",\\n    \"description\": \"The number of patients achieving remission at long-term follow-up (longest follow-up between 3 to 12 months). The same point in time as the primary outcome may be adopted.\"\\n  },\\n  {\\n    \"name\": \"r_long_scale_used\",\\n    \"type\": \"string\",\\n    \"description\": \"Scales that were used for counting remission at long-term.\"\\n  },\\n  {\\n    \"name\": \"Severity_mean_long\",\\n    \"type\": \"number\",\\n    \"description\": \"Mean severity at long-term follow-up.\"\\n  },\\n  {\\n    \"name\": \"Severity_sd_long\",\\n    \"type\": \"number\",\\n    \"description\": \"Standard deviation of the mean severity at long-term follow-up.\"\\n  },\\n  {\\n    \"name\": \"Severity_n_long\",\\n    \"type\": \"number\",\\n    \"description\": \"The number of patients measured for severity at long-term follow-up. If ITT is used, this should be the same as \\'n\\'.\"\\n  },\\n  {\\n    \"name\": \"Severity_ch_mean_long\",\\n    \"type\": \"number\",\\n    \"description\": \"Mean change of severity from baseline to long-term follow-up. Extract this only when Severity_mean_long, Severity_sd_long, and Severity_n_long are not available.\"\\n  },\\n  {\\n    \"name\": \"Severity_ch_sd_long\",\\n    \"type\": \"number\",\\n    \"description\": \"Standard deviation of the mean change of severity from baseline to long-term follow-up. Extract this only when Severity_mean_long, Severity_sd_long, and Severity_n_long are not available.\"\\n  },\\n  {\\n    \"name\": \"Severity_ch_n_long\",\\n    \"type\": \"number\",\\n    \"description\": \"The number of patients measured for severity change from baseline to long-term follow-up. Extract this only when Severity_mean_long, Severity_sd_long, and Severity_n_long are not available. If ITT is used, this should be the same as \\'n\\'.\"\\n  },\\n  {\\n    \"name\": \"r_weeks_long\",\\n    \"type\": \"number\",\\n    \"description\": \"Timepoint of the measurement of the long-term follow-up in weeks. Time of long-term follow-up is weeks from baseline = duration of treatment + follow-up period (e.g., 6 weeks of treatment followed by 6 months of follow-up: 6+6*4=30 weeks).\"\\n  }\\n]\\n```', role='assistant', function_call=None, tool_calls=None), content_filter_results={'hate': {'filtered': False, 'severity': 'safe'}, 'self_harm': {'filtered': False, 'severity': 'safe'}, 'sexual': {'filtered': False, 'severity': 'safe'}, 'violence': {'filtered': False, 'severity': 'safe'}})], created=1716741599, model='gpt-4o-2024-05-13', object='chat.completion', system_fingerprint='fp_5f4bad809a', usage=CompletionUsage(completion_tokens=1908, prompt_tokens=4059, total_tokens=5967), prompt_filter_results=[{'prompt_index': 0, 'content_filter_results': {'hate': {'filtered': False, 'severity': 'safe'}, 'self_harm': {'filtered': False, 'severity': 'safe'}, 'sexual': {'filtered': False, 'severity': 'safe'}, 'violence': {'filtered': False, 'severity': 'safe'}}}])"
            ]
          },
          "metadata": {},
          "execution_count": 17
        }
      ],
      "source": [
        "response_2"
      ]
    },
    {
      "cell_type": "code",
      "execution_count": null,
      "metadata": {
        "id": "Pms10LK6MZwb"
      },
      "outputs": [],
      "source": [
        "#Integrate the obtained responses\n",
        "output =\"\"\"\n",
        "[\\n  {\\n    \"name\": \"Year\",\\n    \"type\": \"number\",\\n    \"description\": \"Publication year of the primary report. If only the results from registry are available, use the date when the results are posted instead.\"\\n  },\\n  {\\n    \"name\": \"ind_clu\",\\n    \"type\": \"string\",\\n    \"description\": \"Study design: Choose \\'individual\\' if individually randomized, choose \\'cluster\\' if it is a cluster RCT.\"\\n  },\\n  {\\n    \"name\": \"ICC_for_cRCT\",\\n    \"type\": \"number\",\\n    \"description\": \"Intra-cluster Correlation Coefficient for cluster RCTs. If it is not clearly stated, use \\'0.05\\'.\"\\n  },\\n  {\\n    \"name\": \"Country\",\\n    \"type\": \"string\",\\n    \"description\": \"Countries where the trial took place.\"\\n  },\\n  {\\n    \"name\": \"Single_multi\",\\n    \"type\": \"string\",\\n    \"description\": \"Whether the recruitment took place at a single or multi centers.\"\\n  },\\n  {\\n    \"name\": \"Age_mean\",\\n    \"type\": \"number\",\\n    \"description\": \"Mean age of the patients in the arm.\"\\n  },\\n  {\\n    \"name\": \"Age_sd\",\\n    \"type\": \"number\",\\n    \"description\": \"Standard deviation of the mean age. SD can be calculated using SE or CI if not directly provided.\"\\n  },\\n  {\\n    \"name\": \"Age_n\",\\n    \"type\": \"number\",\\n    \"description\": \"The number of patients used for calculating Age_mean.\"\\n  },\\n  {\\n    \"name\": \"F_n\",\\n    \"type\": \"number\",\\n    \"description\": \"Number of female patients in the arm.\"\\n  },\\n  {\\n    \"name\": \"Hyp_n\",\\n    \"type\": \"number\",\\n    \"description\": \"Number of patients using hypnotics. If the drug treatment is part of the protocol treatment, \\'Hyp_n\\' should be equal to \\'n\\'. If not, use the number at baseline.\"\\n  },\\n  {\\n    \"name\": \"Insomnia_diagnosis\",\\n    \"type\": \"string\",\\n    \"description\": \"Formal or informal diagnostic criteria used for insomnia. Prioritize DSM, ICSD, ICD, and other formal criteria over informal scales.\"\\n  },\\n  {\\n    \"name\": \"Primary_insomnia_n\",\\n    \"type\": \"number\",\\n    \"description\": \"The number of primary insomnia patients (insomnia without comorbidities) in the arm. If focused on primary insomnia, it should be same as \\'n\\'.\"\\n  },\\n  {\\n    \"name\": \"Comorbidities\",\\n    \"type\": \"string\",\\n    \"description\": \"Comorbid conditions present in the study population. Use predefined categories such as primary_insomnia, psy_MDD, phy_heart_failure, etc.\"\\n  },\\n  {\\n    \"name\": \"se\",\\n    \"type\": \"number\",\\n    \"description\": \"Sleep hygiene education component: 1 if included, 0 if not.\"\\n  },\\n  {\\n    \"name\": \"sd\",\\n    \"type\": \"number\",\\n    \"description\": \"Sleep diary component: 1 if included, 0 if not.\"\\n  },\\n  {\\n    \"name\": \"cr\",\\n    \"type\": \"number\",\\n    \"description\": \"Cognitive restructuring component: 1 if included, 0 if not.\"\\n  },\\n  {\\n    \"name\": \"cw\",\\n    \"type\": \"number\",\\n    \"description\": \"Constructive worry component: 1 if included, 0 if not.\"\\n  },\\n  {\\n    \"name\": \"sr\",\\n    \"type\": \"number\",\\n    \"description\": \"Sleep restriction component: 1 if included, 0 if not.\"\\n  },\\n  {\\n    \"name\": \"sc\",\\n    \"type\": \"number\",\\n    \"description\": \"Stimulus control component: 1 if included, 0 if not.\"\\n  },\\n  {\\n    \"name\": \"re\",\\n    \"type\": \"number\",\\n    \"description\": \"Relaxation component: 1 if included, 0 if not.\"\\n  },\\n  {\\n    \"name\": \"pi\",\\n    \"type\": \"number\",\\n    \"description\": \"Paradoxical intention component: 1 if included, 0 if not.\"\\n  },\\n  {\\n    \"name\": \"w\",\\n    \"type\": \"number\",\\n    \"description\": \"Waiting component: 1 if included, 0 if not.\"\\n  },\\n  {\\n    \"name\": \"dt\",\\n    \"type\": \"number\",\\n    \"description\": \"Conventional drug treatment component: 1 if included, 0 if not.\"\\n  },\\n  {\\n    \"name\": \"ns\",\\n    \"type\": \"number\",\\n    \"description\": \"Non-specific treatment effect component: 1 if included, 0 if not.\"\\n  },\\n  {\\n    \"name\": \"he\",\\n    \"type\": \"number\",\\n    \"description\": \"Human encouragement component: 1 if included, 0 if not.\"\\n  },\\n  {\\n    \"name\": \"tg\",\\n    \"type\": \"number\",\\n    \"description\": \"Therapeutic guidance component: 1 if included, 0 if not.\"\\n  },\\n  {\\n    \"name\": \"ind\",\\n    \"type\": \"number\",\\n    \"description\": \"Individual interaction with therapists: 1 if included, 0 if not.\"\\n  },\\n  {\\n    \"name\": \"gp\",\\n    \"type\": \"number\",\\n    \"description\": \"Group interaction with therapists: 1 if included, 0 if not.\"\\n  },\\n  {\\n    \"name\": \"ff\",\\n    \"type\": \"number\",\\n    \"description\": \"Face-to-face interaction with therapists: 1 if included, 0 if not.\"\\n  },\\n  {\\n    \"name\": \"ae\",\\n    \"type\": \"number\",\\n    \"description\": \"Automatic encouragement component: 1 if included, 0 if not.\"\\n  },\\n\n",
        "{\\n    \"name\": \"n\",\\n    \"type\": \"number\",\\n    \"description\": \"The number of patients randomized to the arm.\"\\n  },\\n  {\\n    \"name\": \"remission\",\\n    \"type\": \"number\",\\n    \"description\": \"The number of patients achieving remission at post-treatment or at its closest time point. If equidistant, use the longer timeframe.\"\\n  },\\n  {\\n    \"name\": \"def_remission_response\",\\n    \"type\": \"string\",\\n    \"description\": \"Copy & paste the definition of remission and response stated by the author. If multiple definitions are stated for different measures, copy & paste them all.\"\\n  },\\n  {\\n    \"name\": \"scale_used\",\\n    \"type\": \"string\",\\n    \"description\": \"The scale used for the definition of remission. Prioritize; ISI > SCI > FOSQ > ESS > PSQI > AIS > other_self_reported_scales > WASO_SOL > WASO > SOL. Use the definition stated by the author.\"\\n  },\\n  {\\n    \"name\": \"Severity_bl_mean\",\\n    \"type\": \"number\",\\n    \"description\": \"Mean severity measured at baseline.\"\\n  },\\n  {\\n    \"name\": \"Severity_bl_sd\",\\n    \"type\": \"number\",\\n    \"description\": \"Standard deviation of the mean severity measured at baseline. When only SE is given, convert it to SD by calculating SE*n^(1/2).\"\\n  },\\n  {\\n    \"name\": \"Severity_bl_n\",\\n    \"type\": \"number\",\\n    \"description\": \"The number of patients measured for their severity at baseline.\"\\n  },\\n  {\\n    \"name\": \"Severity_ch_mean\",\\n    \"type\": \"number\",\\n    \"description\": \"Mean change of severity from baseline to the endpoint (post-treatment or at its closest time point). Extract this only when Severity_ep_mean, Severity_ep_sd, and Severity_ep_n are not available.\"\\n  },\\n  {\\n    \"name\": \"Severity_ch_sd\",\\n    \"type\": \"number\",\\n    \"description\": \"Standard deviation of the mean change of severity from baseline to the endpoint. Extract this only when Severity_ep_mean, Severity_ep_sd, and Severity_ep_n are not available. When only SE is given, convert it to SD by calculating SE*n^(1/2).\"\\n  },\\n  {\\n    \"name\": \"Severity_ch_n\",\\n    \"type\": \"number\",\\n    \"description\": \"The number of patients measured for their severity change from baseline to the endpoint. Extract this only when Severity_ep_mean, Severity_ep_sd, and Severity_ep_n are not available.\"\\n  },\\n  {\\n    \"name\": \"Severity_ep_mean\",\\n    \"type\": \"number\",\\n    \"description\": \"Mean severity measured at post-treatment or at its closest time point.\"\\n  },\\n  {\\n    \"name\": \"Severity_ep_sd\",\\n    \"type\": \"number\",\\n    \"description\": \"Standard deviation of the mean severity measured at post-treatment or at its closest time point. When only SE is given, convert it to SD by calculating SE*n^(1/2).\"\\n  },\\n  {\\n    \"name\": \"Severity_ep_n\",\\n    \"type\": \"number\",\\n    \"description\": \"The number of patients measured for their severity at post-treatment or at its closest time point.\"\\n  },\\n  {\\n    \"name\": \"Severity_scale\",\\n    \"type\": \"string\",\\n    \"description\": \"The scale used for measuring the sleep-related severity. Prioritize; ISI > SCI > FOSQ > ESS > PSQI > AIS > other_self_reported_scales > WASO_SOL > WASO > SOL. Use the definition stated by the author.\"\\n  },\\n  {\\n    \"name\": \"dropout\",\\n    \"type\": \"number\",\\n    \"description\": \"The number of patients who dropped out from the study for any reason. Those who are lost to follow-up will be assumed to have dropped off.\"\\n  },\\n  {\\n    \"name\": \"SE_mean\",\\n    \"type\": \"number\",\\n    \"description\": \"Mean sleep efficiency in percentage.\"\\n  },\\n  {\\n    \"name\": \"SE_sd\",\\n    \"type\": \"number\",\\n    \"description\": \"Standard deviation of the mean sleep efficiency. When only SE is given, convert it to SD by calculating SE*n^(1/2).\"\\n  },\\n  {\\n    \"name\": \"SE_n\",\\n    \"type\": \"number\",\\n    \"description\": \"The number of patients measured for sleep efficiency. If ITT is used, this should be the same as \\'n\\'.\"\\n  },\\n  {\\n    \"name\": \"TST_mean\",\\n    \"type\": \"number\",\\n    \"description\": \"Mean total sleep time in minutes.\"\\n  },\\n  {\\n    \"name\": \"TST_sd\",\\n    \"type\": \"number\",\\n    \"description\": \"Standard deviation of the mean total sleep time. When only SE is given, convert it to SD by calculating SE*n^(1/2).\"\\n  },\\n  {\\n    \"name\": \"TST_n\",\\n    \"type\": \"number\",\\n    \"description\": \"The number of patients measured for total sleep time. If ITT is used, this should be the same as \\'n\\'.\"\\n  },\\n  {\\n    \"name\": \"SOL_mean\",\\n    \"type\": \"number\",\\n    \"description\": \"Mean sleep onset latency in minutes.\"\\n  },\\n  {\\n    \"name\": \"SOL_sd\",\\n    \"type\": \"number\",\\n    \"description\": \"Standard deviation of the mean sleep onset latency. When only SE is given, convert it to SD by calculating SE*n^(1/2).\"\\n  },\\n  {\\n    \"name\": \"SOL_n\",\\n    \"type\": \"number\",\\n    \"description\": \"The number of patients measured for sleep onset latency. If ITT is used, this should be the same as \\'n\\'.\"\\n  },\\n  {\\n    \"name\": \"WASO_mean\",\\n    \"type\": \"number\",\\n    \"description\": \"Mean wake after sleep onset in minutes.\"\\n  },\\n  {\\n    \"name\": \"WASO_sd\",\\n    \"type\": \"number\",\\n    \"description\": \"Standard deviation of the mean wake after sleep onset. When only SE is given, convert it to SD by calculating SE*n^(1/2).\"\\n  },\\n  {\\n    \"name\": \"WASO_n\",\\n    \"type\": \"number\",\\n    \"description\": \"The number of patients measured for wake after sleep onset. If ITT is used, this should be the same as \\'n\\'.\"\\n  },\\n  {\\n    \"name\": \"Sleep_diary_weeks\",\\n    \"type\": \"number\",\\n    \"description\": \"Timepoint when the sleep diary was measured in weeks.\"\\n  },\\n  {\\n    \"name\": \"r_long\",\\n    \"type\": \"number\",\\n    \"description\": \"The number of patients achieving remission at long-term follow-up (longest follow-up between 3 to 12 months). The same point in time as the primary outcome may be adopted.\"\\n  },\\n  {\\n    \"name\": \"r_long_scale_used\",\\n    \"type\": \"string\",\\n    \"description\": \"Scales that were used for counting remission at long-term.\"\\n  },\\n  {\\n    \"name\": \"Severity_mean_long\",\\n    \"type\": \"number\",\\n    \"description\": \"Mean severity at long-term follow-up.\"\\n  },\\n  {\\n    \"name\": \"Severity_sd_long\",\\n    \"type\": \"number\",\\n    \"description\": \"Standard deviation of the mean severity at long-term follow-up.\"\\n  },\\n  {\\n    \"name\": \"Severity_n_long\",\\n    \"type\": \"number\",\\n    \"description\": \"The number of patients measured for severity at long-term follow-up. If ITT is used, this should be the same as \\'n\\'.\"\\n  },\\n  {\\n    \"name\": \"Severity_ch_mean_long\",\\n    \"type\": \"number\",\\n    \"description\": \"Mean change of severity from baseline to long-term follow-up. Extract this only when Severity_mean_long, Severity_sd_long, and Severity_n_long are not available.\"\\n  },\\n  {\\n    \"name\": \"Severity_ch_sd_long\",\\n    \"type\": \"number\",\\n    \"description\": \"Standard deviation of the mean change of severity from baseline to long-term follow-up. Extract this only when Severity_mean_long, Severity_sd_long, and Severity_n_long are not available.\"\\n  },\\n  {\\n    \"name\": \"Severity_ch_n_long\",\\n    \"type\": \"number\",\\n    \"description\": \"The number of patients measured for severity change from baseline to long-term follow-up. Extract this only when Severity_mean_long, Severity_sd_long, and Severity_n_long are not available. If ITT is used, this should be the same as \\'n\\'.\"\\n  },\\n  {\\n    \"name\": \"r_weeks_long\",\\n    \"type\": \"number\",\\n    \"description\": \"Timepoint of the measurement of the long-term follow-up in weeks. Time of long-term follow-up is weeks from baseline = duration of treatment + follow-up period (e.g., 6 weeks of treatment followed by 6 months of follow-up: 6+6*4=30 weeks).\"\\n  }\\n]\\n\n",
        "\"\"\""
      ]
    },
    {
      "cell_type": "code",
      "execution_count": null,
      "metadata": {
        "colab": {
          "base_uri": "https://localhost:8080/"
        },
        "id": "oUAuy8YnMZwc",
        "outputId": "d1033697-d328-41d1-ad37-2464d58d3119"
      },
      "outputs": [
        {
          "output_type": "execute_result",
          "data": {
            "text/plain": [
              "[{'name': 'Year',\n",
              "  'type': 'number',\n",
              "  'description': 'Publication year of the primary report. If only the results from registry are available, use the date when the results are posted instead.'},\n",
              " {'name': 'ind_clu',\n",
              "  'type': 'string',\n",
              "  'description': \"Study design: Choose 'individual' if individually randomized, choose 'cluster' if it is a cluster RCT.\"},\n",
              " {'name': 'ICC_for_cRCT',\n",
              "  'type': 'number',\n",
              "  'description': \"Intra-cluster Correlation Coefficient for cluster RCTs. If it is not clearly stated, use '0.05'.\"},\n",
              " {'name': 'Country',\n",
              "  'type': 'string',\n",
              "  'description': 'Countries where the trial took place.'},\n",
              " {'name': 'Single_multi',\n",
              "  'type': 'string',\n",
              "  'description': 'Whether the recruitment took place at a single or multi centers.'},\n",
              " {'name': 'Age_mean',\n",
              "  'type': 'number',\n",
              "  'description': 'Mean age of the patients in the arm.'},\n",
              " {'name': 'Age_sd',\n",
              "  'type': 'number',\n",
              "  'description': 'Standard deviation of the mean age. SD can be calculated using SE or CI if not directly provided.'},\n",
              " {'name': 'Age_n',\n",
              "  'type': 'number',\n",
              "  'description': 'The number of patients used for calculating Age_mean.'},\n",
              " {'name': 'F_n',\n",
              "  'type': 'number',\n",
              "  'description': 'Number of female patients in the arm.'},\n",
              " {'name': 'Hyp_n',\n",
              "  'type': 'number',\n",
              "  'description': \"Number of patients using hypnotics. If the drug treatment is part of the protocol treatment, 'Hyp_n' should be equal to 'n'. If not, use the number at baseline.\"},\n",
              " {'name': 'Insomnia_diagnosis',\n",
              "  'type': 'string',\n",
              "  'description': 'Formal or informal diagnostic criteria used for insomnia. Prioritize DSM, ICSD, ICD, and other formal criteria over informal scales.'},\n",
              " {'name': 'Primary_insomnia_n',\n",
              "  'type': 'number',\n",
              "  'description': \"The number of primary insomnia patients (insomnia without comorbidities) in the arm. If focused on primary insomnia, it should be same as 'n'.\"},\n",
              " {'name': 'Comorbidities',\n",
              "  'type': 'string',\n",
              "  'description': 'Comorbid conditions present in the study population. Use predefined categories such as primary_insomnia, psy_MDD, phy_heart_failure, etc.'},\n",
              " {'name': 'se',\n",
              "  'type': 'number',\n",
              "  'description': 'Sleep hygiene education component: 1 if included, 0 if not.'},\n",
              " {'name': 'sd',\n",
              "  'type': 'number',\n",
              "  'description': 'Sleep diary component: 1 if included, 0 if not.'},\n",
              " {'name': 'cr',\n",
              "  'type': 'number',\n",
              "  'description': 'Cognitive restructuring component: 1 if included, 0 if not.'},\n",
              " {'name': 'cw',\n",
              "  'type': 'number',\n",
              "  'description': 'Constructive worry component: 1 if included, 0 if not.'},\n",
              " {'name': 'sr',\n",
              "  'type': 'number',\n",
              "  'description': 'Sleep restriction component: 1 if included, 0 if not.'},\n",
              " {'name': 'sc',\n",
              "  'type': 'number',\n",
              "  'description': 'Stimulus control component: 1 if included, 0 if not.'},\n",
              " {'name': 're',\n",
              "  'type': 'number',\n",
              "  'description': 'Relaxation component: 1 if included, 0 if not.'},\n",
              " {'name': 'pi',\n",
              "  'type': 'number',\n",
              "  'description': 'Paradoxical intention component: 1 if included, 0 if not.'},\n",
              " {'name': 'w',\n",
              "  'type': 'number',\n",
              "  'description': 'Waiting component: 1 if included, 0 if not.'},\n",
              " {'name': 'dt',\n",
              "  'type': 'number',\n",
              "  'description': 'Conventional drug treatment component: 1 if included, 0 if not.'},\n",
              " {'name': 'ns',\n",
              "  'type': 'number',\n",
              "  'description': 'Non-specific treatment effect component: 1 if included, 0 if not.'},\n",
              " {'name': 'he',\n",
              "  'type': 'number',\n",
              "  'description': 'Human encouragement component: 1 if included, 0 if not.'},\n",
              " {'name': 'tg',\n",
              "  'type': 'number',\n",
              "  'description': 'Therapeutic guidance component: 1 if included, 0 if not.'},\n",
              " {'name': 'ind',\n",
              "  'type': 'number',\n",
              "  'description': 'Individual interaction with therapists: 1 if included, 0 if not.'},\n",
              " {'name': 'gp',\n",
              "  'type': 'number',\n",
              "  'description': 'Group interaction with therapists: 1 if included, 0 if not.'},\n",
              " {'name': 'ff',\n",
              "  'type': 'number',\n",
              "  'description': 'Face-to-face interaction with therapists: 1 if included, 0 if not.'},\n",
              " {'name': 'ae',\n",
              "  'type': 'number',\n",
              "  'description': 'Automatic encouragement component: 1 if included, 0 if not.'},\n",
              " {'name': 'n',\n",
              "  'type': 'number',\n",
              "  'description': 'The number of patients randomized to the arm.'},\n",
              " {'name': 'remission',\n",
              "  'type': 'number',\n",
              "  'description': 'The number of patients achieving remission at post-treatment or at its closest time point. If equidistant, use the longer timeframe.'},\n",
              " {'name': 'def_remission_response',\n",
              "  'type': 'string',\n",
              "  'description': 'Copy & paste the definition of remission and response stated by the author. If multiple definitions are stated for different measures, copy & paste them all.'},\n",
              " {'name': 'scale_used',\n",
              "  'type': 'string',\n",
              "  'description': 'The scale used for the definition of remission. Prioritize; ISI > SCI > FOSQ > ESS > PSQI > AIS > other_self_reported_scales > WASO_SOL > WASO > SOL. Use the definition stated by the author.'},\n",
              " {'name': 'Severity_bl_mean',\n",
              "  'type': 'number',\n",
              "  'description': 'Mean severity measured at baseline.'},\n",
              " {'name': 'Severity_bl_sd',\n",
              "  'type': 'number',\n",
              "  'description': 'Standard deviation of the mean severity measured at baseline. When only SE is given, convert it to SD by calculating SE*n^(1/2).'},\n",
              " {'name': 'Severity_bl_n',\n",
              "  'type': 'number',\n",
              "  'description': 'The number of patients measured for their severity at baseline.'},\n",
              " {'name': 'Severity_ch_mean',\n",
              "  'type': 'number',\n",
              "  'description': 'Mean change of severity from baseline to the endpoint (post-treatment or at its closest time point). Extract this only when Severity_ep_mean, Severity_ep_sd, and Severity_ep_n are not available.'},\n",
              " {'name': 'Severity_ch_sd',\n",
              "  'type': 'number',\n",
              "  'description': 'Standard deviation of the mean change of severity from baseline to the endpoint. Extract this only when Severity_ep_mean, Severity_ep_sd, and Severity_ep_n are not available. When only SE is given, convert it to SD by calculating SE*n^(1/2).'},\n",
              " {'name': 'Severity_ch_n',\n",
              "  'type': 'number',\n",
              "  'description': 'The number of patients measured for their severity change from baseline to the endpoint. Extract this only when Severity_ep_mean, Severity_ep_sd, and Severity_ep_n are not available.'},\n",
              " {'name': 'Severity_ep_mean',\n",
              "  'type': 'number',\n",
              "  'description': 'Mean severity measured at post-treatment or at its closest time point.'},\n",
              " {'name': 'Severity_ep_sd',\n",
              "  'type': 'number',\n",
              "  'description': 'Standard deviation of the mean severity measured at post-treatment or at its closest time point. When only SE is given, convert it to SD by calculating SE*n^(1/2).'},\n",
              " {'name': 'Severity_ep_n',\n",
              "  'type': 'number',\n",
              "  'description': 'The number of patients measured for their severity at post-treatment or at its closest time point.'},\n",
              " {'name': 'Severity_scale',\n",
              "  'type': 'string',\n",
              "  'description': 'The scale used for measuring the sleep-related severity. Prioritize; ISI > SCI > FOSQ > ESS > PSQI > AIS > other_self_reported_scales > WASO_SOL > WASO > SOL. Use the definition stated by the author.'},\n",
              " {'name': 'dropout',\n",
              "  'type': 'number',\n",
              "  'description': 'The number of patients who dropped out from the study for any reason. Those who are lost to follow-up will be assumed to have dropped off.'},\n",
              " {'name': 'SE_mean',\n",
              "  'type': 'number',\n",
              "  'description': 'Mean sleep efficiency in percentage.'},\n",
              " {'name': 'SE_sd',\n",
              "  'type': 'number',\n",
              "  'description': 'Standard deviation of the mean sleep efficiency. When only SE is given, convert it to SD by calculating SE*n^(1/2).'},\n",
              " {'name': 'SE_n',\n",
              "  'type': 'number',\n",
              "  'description': \"The number of patients measured for sleep efficiency. If ITT is used, this should be the same as 'n'.\"},\n",
              " {'name': 'TST_mean',\n",
              "  'type': 'number',\n",
              "  'description': 'Mean total sleep time in minutes.'},\n",
              " {'name': 'TST_sd',\n",
              "  'type': 'number',\n",
              "  'description': 'Standard deviation of the mean total sleep time. When only SE is given, convert it to SD by calculating SE*n^(1/2).'},\n",
              " {'name': 'TST_n',\n",
              "  'type': 'number',\n",
              "  'description': \"The number of patients measured for total sleep time. If ITT is used, this should be the same as 'n'.\"},\n",
              " {'name': 'SOL_mean',\n",
              "  'type': 'number',\n",
              "  'description': 'Mean sleep onset latency in minutes.'},\n",
              " {'name': 'SOL_sd',\n",
              "  'type': 'number',\n",
              "  'description': 'Standard deviation of the mean sleep onset latency. When only SE is given, convert it to SD by calculating SE*n^(1/2).'},\n",
              " {'name': 'SOL_n',\n",
              "  'type': 'number',\n",
              "  'description': \"The number of patients measured for sleep onset latency. If ITT is used, this should be the same as 'n'.\"},\n",
              " {'name': 'WASO_mean',\n",
              "  'type': 'number',\n",
              "  'description': 'Mean wake after sleep onset in minutes.'},\n",
              " {'name': 'WASO_sd',\n",
              "  'type': 'number',\n",
              "  'description': 'Standard deviation of the mean wake after sleep onset. When only SE is given, convert it to SD by calculating SE*n^(1/2).'},\n",
              " {'name': 'WASO_n',\n",
              "  'type': 'number',\n",
              "  'description': \"The number of patients measured for wake after sleep onset. If ITT is used, this should be the same as 'n'.\"},\n",
              " {'name': 'Sleep_diary_weeks',\n",
              "  'type': 'number',\n",
              "  'description': 'Timepoint when the sleep diary was measured in weeks.'},\n",
              " {'name': 'r_long',\n",
              "  'type': 'number',\n",
              "  'description': 'The number of patients achieving remission at long-term follow-up (longest follow-up between 3 to 12 months). The same point in time as the primary outcome may be adopted.'},\n",
              " {'name': 'r_long_scale_used',\n",
              "  'type': 'string',\n",
              "  'description': 'Scales that were used for counting remission at long-term.'},\n",
              " {'name': 'Severity_mean_long',\n",
              "  'type': 'number',\n",
              "  'description': 'Mean severity at long-term follow-up.'},\n",
              " {'name': 'Severity_sd_long',\n",
              "  'type': 'number',\n",
              "  'description': 'Standard deviation of the mean severity at long-term follow-up.'},\n",
              " {'name': 'Severity_n_long',\n",
              "  'type': 'number',\n",
              "  'description': \"The number of patients measured for severity at long-term follow-up. If ITT is used, this should be the same as 'n'.\"},\n",
              " {'name': 'Severity_ch_mean_long',\n",
              "  'type': 'number',\n",
              "  'description': 'Mean change of severity from baseline to long-term follow-up. Extract this only when Severity_mean_long, Severity_sd_long, and Severity_n_long are not available.'},\n",
              " {'name': 'Severity_ch_sd_long',\n",
              "  'type': 'number',\n",
              "  'description': 'Standard deviation of the mean change of severity from baseline to long-term follow-up. Extract this only when Severity_mean_long, Severity_sd_long, and Severity_n_long are not available.'},\n",
              " {'name': 'Severity_ch_n_long',\n",
              "  'type': 'number',\n",
              "  'description': \"The number of patients measured for severity change from baseline to long-term follow-up. Extract this only when Severity_mean_long, Severity_sd_long, and Severity_n_long are not available. If ITT is used, this should be the same as 'n'.\"},\n",
              " {'name': 'r_weeks_long',\n",
              "  'type': 'number',\n",
              "  'description': 'Timepoint of the measurement of the long-term follow-up in weeks. Time of long-term follow-up is weeks from baseline = duration of treatment + follow-up period (e.g., 6 weeks of treatment followed by 6 months of follow-up: 6+6*4=30 weeks).'}]"
            ]
          },
          "metadata": {},
          "execution_count": 19
        }
      ],
      "source": [
        "# Parse the JSON output from the GPT response\n",
        "output_json = json.loads(output)\n",
        "output_json"
      ]
    },
    {
      "cell_type": "markdown",
      "metadata": {
        "id": "qhs6goTPMZwc"
      },
      "source": [
        "Give a choice in the description for variables for which a pull-down choice is given in the DE sheet."
      ]
    },
    {
      "cell_type": "code",
      "execution_count": null,
      "metadata": {
        "colab": {
          "base_uri": "https://localhost:8080/"
        },
        "id": "DZXVLK3FMZwc",
        "outputId": "998f9473-bad5-4c77-f78c-f24d5f2a929f"
      },
      "outputs": [
        {
          "output_type": "execute_result",
          "data": {
            "text/plain": [
              "[{'name': 'Year',\n",
              "  'type': 'number',\n",
              "  'description': 'Publication year of the primary report. If only the results from registry are available, use the date when the results are posted instead.'},\n",
              " {'name': 'ind_clu',\n",
              "  'type': 'string',\n",
              "  'description': \"Study design: Choose 'individual' if individually randomized, choose 'cluster' if it is a cluster RCT. You have to choose from the options [individual, cluster].\"},\n",
              " {'name': 'ICC_for_cRCT',\n",
              "  'type': 'number',\n",
              "  'description': \"Intra-cluster Correlation Coefficient for cluster RCTs. If it is not clearly stated, use '0.05'.\"},\n",
              " {'name': 'Country',\n",
              "  'type': 'string',\n",
              "  'description': 'Countries where the trial took place.'},\n",
              " {'name': 'Single_multi',\n",
              "  'type': 'string',\n",
              "  'description': 'Whether the recruitment took place at a single or multi centers. You have to choose from the options [single, multi].'},\n",
              " {'name': 'Age_mean',\n",
              "  'type': 'number',\n",
              "  'description': 'Mean age of the patients in the arm.'},\n",
              " {'name': 'Age_sd',\n",
              "  'type': 'number',\n",
              "  'description': 'Standard deviation of the mean age. SD can be calculated using SE or CI if not directly provided.'},\n",
              " {'name': 'Age_n',\n",
              "  'type': 'number',\n",
              "  'description': 'The number of patients used for calculating Age_mean.'},\n",
              " {'name': 'F_n',\n",
              "  'type': 'number',\n",
              "  'description': 'Number of female patients in the arm.'},\n",
              " {'name': 'Hyp_n',\n",
              "  'type': 'number',\n",
              "  'description': \"Number of patients using hypnotics. If the drug treatment is part of the protocol treatment, 'Hyp_n' should be equal to 'n'. If not, use the number at baseline.\"},\n",
              " {'name': 'Insomnia_diagnosis',\n",
              "  'type': 'string',\n",
              "  'description': 'Formal or informal diagnostic criteria used for insomnia. Prioritize DSM, ICSD, ICD, and other formal criteria over informal scales. You have to choose from the options [1. formal_DSM, 1. formal_ICSD, 1. formal_ICD, 1. formal_Edinger2004, 2. informal_ISI, 2. informal_SCI, 2. informal_PSQI, 2. informal_AIS, 2. informal_other_self_reported_scales, 3. others].'},\n",
              " {'name': 'Primary_insomnia_n',\n",
              "  'type': 'number',\n",
              "  'description': \"The number of primary insomnia patients (insomnia without comorbidities) in the arm. If focused on primary insomnia, it should be same as 'n'.\"},\n",
              " {'name': 'Comorbidities',\n",
              "  'type': 'string',\n",
              "  'description': 'Comorbid conditions present in the study population. Use predefined categories such as primary_insomnia, psy_MDD, phy_heart_failure, etc. You have to choose from the options [0. primary_insomnia, 1. primary_secondary_mixed, 2. psy_MDD, 2. psy_anxiety, 2. psy_PTSD, 2. psy_schizophrenia_or_psychosis, 2. psy_bipolar, 2. psy_substance_dependence, 2. psy_others, 2. psy_mixed, 3. phy_dialysis, 3. phy_heart_failure, 3. phy_diabetes, 3. phy_fibromyalgia, 3. phy_cancer, 3. phy_steroid, 3. phy_pregnancy_perinatal, 3. phy_menopause, 3. phy_others, 3. phy_mixed, 4. psy_phy_mixed]'},\n",
              " {'name': 'se',\n",
              "  'type': 'number',\n",
              "  'description': 'Sleep hygiene education component: 1 if included, 0 if not.'},\n",
              " {'name': 'sd',\n",
              "  'type': 'number',\n",
              "  'description': 'Sleep diary component: 1 if included, 0 if not.'},\n",
              " {'name': 'cr',\n",
              "  'type': 'number',\n",
              "  'description': 'Cognitive restructuring component: 1 if included, 0 if not.'},\n",
              " {'name': 'cw',\n",
              "  'type': 'number',\n",
              "  'description': 'Constructive worry component: 1 if included, 0 if not.'},\n",
              " {'name': 'sr',\n",
              "  'type': 'number',\n",
              "  'description': 'Sleep restriction component: 1 if included, 0 if not.'},\n",
              " {'name': 'sc',\n",
              "  'type': 'number',\n",
              "  'description': 'Stimulus control component: 1 if included, 0 if not.'},\n",
              " {'name': 're',\n",
              "  'type': 'number',\n",
              "  'description': 'Relaxation component: 1 if included, 0 if not.'},\n",
              " {'name': 'pi',\n",
              "  'type': 'number',\n",
              "  'description': 'Paradoxical intention component: 1 if included, 0 if not.'},\n",
              " {'name': 'w',\n",
              "  'type': 'number',\n",
              "  'description': 'Waiting component: 1 if included, 0 if not.'},\n",
              " {'name': 'dt',\n",
              "  'type': 'number',\n",
              "  'description': 'Conventional drug treatment component: 1 if included, 0 if not.'},\n",
              " {'name': 'ns',\n",
              "  'type': 'number',\n",
              "  'description': 'Non-specific treatment effect component: 1 if included, 0 if not.'},\n",
              " {'name': 'he',\n",
              "  'type': 'number',\n",
              "  'description': 'Human encouragement component: 1 if included, 0 if not.'},\n",
              " {'name': 'tg',\n",
              "  'type': 'number',\n",
              "  'description': 'Therapeutic guidance component: 1 if included, 0 if not.'},\n",
              " {'name': 'ind',\n",
              "  'type': 'number',\n",
              "  'description': 'Individual interaction with therapists: 1 if included, 0 if not.'},\n",
              " {'name': 'gp',\n",
              "  'type': 'number',\n",
              "  'description': 'Group interaction with therapists: 1 if included, 0 if not.'},\n",
              " {'name': 'ff',\n",
              "  'type': 'number',\n",
              "  'description': 'Face-to-face interaction with therapists: 1 if included, 0 if not.'},\n",
              " {'name': 'ae',\n",
              "  'type': 'number',\n",
              "  'description': 'Automatic encouragement component: 1 if included, 0 if not.'},\n",
              " {'name': 'n',\n",
              "  'type': 'number',\n",
              "  'description': 'The number of patients randomized to the arm.'},\n",
              " {'name': 'remission',\n",
              "  'type': 'number',\n",
              "  'description': 'The number of patients achieving remission at post-treatment or at its closest time point. If equidistant, use the longer timeframe.'},\n",
              " {'name': 'def_remission_response',\n",
              "  'type': 'string',\n",
              "  'description': 'Copy & paste the definition of remission and response stated by the author. If multiple definitions are stated for different measures, copy & paste them all.'},\n",
              " {'name': 'scale_used',\n",
              "  'type': 'string',\n",
              "  'description': 'The scale used for the definition of remission. Prioritize; ISI > SCI > FOSQ > ESS > PSQI > AIS > other_self_reported_scales > WASO_SOL > WASO > SOL. Use the definition stated by the author. You have to choose from the options [ISI, SCI, FOSQ, ESS, PSQI, AIS, other_self_reported_scales, WASO_SOL, WASO, SOL]'},\n",
              " {'name': 'Severity_bl_mean',\n",
              "  'type': 'number',\n",
              "  'description': 'Mean severity measured at baseline.'},\n",
              " {'name': 'Severity_bl_sd',\n",
              "  'type': 'number',\n",
              "  'description': 'Standard deviation of the mean severity measured at baseline. When only SE is given, convert it to SD by calculating SE*n^(1/2).'},\n",
              " {'name': 'Severity_bl_n',\n",
              "  'type': 'number',\n",
              "  'description': 'The number of patients measured for their severity at baseline.'},\n",
              " {'name': 'Severity_ch_mean',\n",
              "  'type': 'number',\n",
              "  'description': 'Mean change of severity from baseline to the endpoint (post-treatment or at its closest time point). Extract this only when Severity_ep_mean, Severity_ep_sd, and Severity_ep_n are not available.'},\n",
              " {'name': 'Severity_ch_sd',\n",
              "  'type': 'number',\n",
              "  'description': 'Standard deviation of the mean change of severity from baseline to the endpoint. Extract this only when Severity_ep_mean, Severity_ep_sd, and Severity_ep_n are not available. When only SE is given, convert it to SD by calculating SE*n^(1/2).'},\n",
              " {'name': 'Severity_ch_n',\n",
              "  'type': 'number',\n",
              "  'description': 'The number of patients measured for their severity change from baseline to the endpoint. Extract this only when Severity_ep_mean, Severity_ep_sd, and Severity_ep_n are not available.'},\n",
              " {'name': 'Severity_ep_mean',\n",
              "  'type': 'number',\n",
              "  'description': 'Mean severity measured at post-treatment or at its closest time point.'},\n",
              " {'name': 'Severity_ep_sd',\n",
              "  'type': 'number',\n",
              "  'description': 'Standard deviation of the mean severity measured at post-treatment or at its closest time point. When only SE is given, convert it to SD by calculating SE*n^(1/2).'},\n",
              " {'name': 'Severity_ep_n',\n",
              "  'type': 'number',\n",
              "  'description': 'The number of patients measured for their severity at post-treatment or at its closest time point.'},\n",
              " {'name': 'Severity_scale',\n",
              "  'type': 'string',\n",
              "  'description': 'The scale used for measuring the sleep-related severity. Prioritize; ISI > SCI > FOSQ > ESS > PSQI > AIS > other_self_reported_scales > WASO_SOL > WASO > SOL. Use the definition stated by the author. You have to choose from the options [ISI, SCI, FOSQ, ESS, PSQI, AIS, other_self_reported_scales, WASO_SOL, WASO, SOL]'},\n",
              " {'name': 'dropout',\n",
              "  'type': 'number',\n",
              "  'description': 'The number of patients who dropped out from the study for any reason. Those who are lost to follow-up will be assumed to have dropped off.'},\n",
              " {'name': 'SE_mean',\n",
              "  'type': 'number',\n",
              "  'description': 'Mean sleep efficiency in percentage.'},\n",
              " {'name': 'SE_sd',\n",
              "  'type': 'number',\n",
              "  'description': 'Standard deviation of the mean sleep efficiency. When only SE is given, convert it to SD by calculating SE*n^(1/2).'},\n",
              " {'name': 'SE_n',\n",
              "  'type': 'number',\n",
              "  'description': \"The number of patients measured for sleep efficiency. If ITT is used, this should be the same as 'n'.\"},\n",
              " {'name': 'TST_mean',\n",
              "  'type': 'number',\n",
              "  'description': 'Mean total sleep time in minutes.'},\n",
              " {'name': 'TST_sd',\n",
              "  'type': 'number',\n",
              "  'description': 'Standard deviation of the mean total sleep time. When only SE is given, convert it to SD by calculating SE*n^(1/2).'},\n",
              " {'name': 'TST_n',\n",
              "  'type': 'number',\n",
              "  'description': \"The number of patients measured for total sleep time. If ITT is used, this should be the same as 'n'.\"},\n",
              " {'name': 'SOL_mean',\n",
              "  'type': 'number',\n",
              "  'description': 'Mean sleep onset latency in minutes.'},\n",
              " {'name': 'SOL_sd',\n",
              "  'type': 'number',\n",
              "  'description': 'Standard deviation of the mean sleep onset latency. When only SE is given, convert it to SD by calculating SE*n^(1/2).'},\n",
              " {'name': 'SOL_n',\n",
              "  'type': 'number',\n",
              "  'description': \"The number of patients measured for sleep onset latency. If ITT is used, this should be the same as 'n'.\"},\n",
              " {'name': 'WASO_mean',\n",
              "  'type': 'number',\n",
              "  'description': 'Mean wake after sleep onset in minutes.'},\n",
              " {'name': 'WASO_sd',\n",
              "  'type': 'number',\n",
              "  'description': 'Standard deviation of the mean wake after sleep onset. When only SE is given, convert it to SD by calculating SE*n^(1/2).'},\n",
              " {'name': 'WASO_n',\n",
              "  'type': 'number',\n",
              "  'description': \"The number of patients measured for wake after sleep onset. If ITT is used, this should be the same as 'n'.\"},\n",
              " {'name': 'Sleep_diary_weeks',\n",
              "  'type': 'number',\n",
              "  'description': 'Timepoint when the sleep diary was measured in weeks.'},\n",
              " {'name': 'r_long',\n",
              "  'type': 'number',\n",
              "  'description': 'The number of patients achieving remission at long-term follow-up (longest follow-up between 3 to 12 months). The same point in time as the primary outcome may be adopted.'},\n",
              " {'name': 'r_long_scale_used',\n",
              "  'type': 'string',\n",
              "  'description': 'Scales that were used for counting remission at long-term. You have to choose from the options [ISI, SCI, FOSQ, ESS, PSQI, AIS, other_self_reported_scales, WASO_SOL, WASO, SOL]'},\n",
              " {'name': 'Severity_mean_long',\n",
              "  'type': 'number',\n",
              "  'description': 'Mean severity at long-term follow-up.'},\n",
              " {'name': 'Severity_sd_long',\n",
              "  'type': 'number',\n",
              "  'description': 'Standard deviation of the mean severity at long-term follow-up.'},\n",
              " {'name': 'Severity_n_long',\n",
              "  'type': 'number',\n",
              "  'description': \"The number of patients measured for severity at long-term follow-up. If ITT is used, this should be the same as 'n'.\"},\n",
              " {'name': 'Severity_ch_mean_long',\n",
              "  'type': 'number',\n",
              "  'description': 'Mean change of severity from baseline to long-term follow-up. Extract this only when Severity_mean_long, Severity_sd_long, and Severity_n_long are not available.'},\n",
              " {'name': 'Severity_ch_sd_long',\n",
              "  'type': 'number',\n",
              "  'description': 'Standard deviation of the mean change of severity from baseline to long-term follow-up. Extract this only when Severity_mean_long, Severity_sd_long, and Severity_n_long are not available.'},\n",
              " {'name': 'Severity_ch_n_long',\n",
              "  'type': 'number',\n",
              "  'description': \"The number of patients measured for severity change from baseline to long-term follow-up. Extract this only when Severity_mean_long, Severity_sd_long, and Severity_n_long are not available. If ITT is used, this should be the same as 'n'.\"},\n",
              " {'name': 'r_weeks_long',\n",
              "  'type': 'number',\n",
              "  'description': 'Timepoint of the measurement of the long-term follow-up in weeks. Time of long-term follow-up is weeks from baseline = duration of treatment + follow-up period (e.g., 6 weeks of treatment followed by 6 months of follow-up: 6+6*4=30 weeks).'}]"
            ]
          },
          "metadata": {},
          "execution_count": 20
        }
      ],
      "source": [
        "for item in output_json:\n",
        "  if item['name'] == 'ind_clu':\n",
        "    item['description'] += ' You have to choose from the options [individual, cluster].'\n",
        "  if item['name'] == 'Single_multi':\n",
        "    item['description'] += ' You have to choose from the options [single, multi].'\n",
        "  if item['name'] == 'Insomnia_diagnosis':\n",
        "    item['description'] += ' You have to choose from the options [1. formal_DSM, 1. formal_ICSD, 1. formal_ICD, 1. formal_Edinger2004, 2. informal_ISI, 2. informal_SCI, 2. informal_PSQI, 2. informal_AIS, 2. informal_other_self_reported_scales, 3. others].'\n",
        "  if item['name'] == 'Comorbidities':\n",
        "    item['description'] += ' You have to choose from the options [0. primary_insomnia, 1. primary_secondary_mixed, 2. psy_MDD, 2. psy_anxiety, 2. psy_PTSD, 2. psy_schizophrenia_or_psychosis, 2. psy_bipolar, 2. psy_substance_dependence, 2. psy_others, 2. psy_mixed, 3. phy_dialysis, 3. phy_heart_failure, 3. phy_diabetes, 3. phy_fibromyalgia, 3. phy_cancer, 3. phy_steroid, 3. phy_pregnancy_perinatal, 3. phy_menopause, 3. phy_others, 3. phy_mixed, 4. psy_phy_mixed]'\n",
        "  if item['name'] == 'scale_used':\n",
        "    item['description'] += ' You have to choose from the options [ISI, SCI, FOSQ, ESS, PSQI, AIS, other_self_reported_scales, WASO_SOL, WASO, SOL]'\n",
        "  if item['name'] == 'Severity_scale':\n",
        "    item['description'] += ' You have to choose from the options [ISI, SCI, FOSQ, ESS, PSQI, AIS, other_self_reported_scales, WASO_SOL, WASO, SOL]'\n",
        "  if item['name'] == 'r_long_scale_used':\n",
        "    item['description'] += ' You have to choose from the options [ISI, SCI, FOSQ, ESS, PSQI, AIS, other_self_reported_scales, WASO_SOL, WASO, SOL]'\n",
        "\n",
        "output_json"
      ]
    },
    {
      "cell_type": "markdown",
      "metadata": {
        "id": "ahXZX7gaMZwd"
      },
      "source": [
        "Verify that the output \"name\" is the same as the original variable name."
      ]
    },
    {
      "cell_type": "code",
      "execution_count": null,
      "metadata": {
        "colab": {
          "base_uri": "https://localhost:8080/"
        },
        "id": "p31rNs_tMZwd",
        "outputId": "39d7545d-a626-4914-a786-834765320fb6"
      },
      "outputs": [
        {
          "output_type": "stream",
          "name": "stdout",
          "text": [
            "JSONにのみ存在するnameの値: set()\n",
            "リストにのみ存在する要素: set()\n"
          ]
        }
      ],
      "source": [
        "# Extract the 'name' values from the JSON data\n",
        "json_names = {item['name'] for item in output_json}\n",
        "\n",
        "# Compare the names from the list and the JSON data\n",
        "in_json_not_in_list = json_names - set(sheet_array)\n",
        "in_list_not_in_json = set(sheet_array) - json_names\n",
        "\n",
        "# Display the results\n",
        "print(\"JSONにのみ存在するnameの値:\", in_json_not_in_list) # Names present only in the JSON data\n",
        "print(\"リストにのみ存在する要素:\", in_list_not_in_json) # Elements present only in the list"
      ]
    },
    {
      "cell_type": "markdown",
      "metadata": {
        "id": "HVCpIbJ6MZwd"
      },
      "source": [
        "Change the type of variable to number."
      ]
    },
    {
      "cell_type": "code",
      "execution_count": null,
      "metadata": {
        "id": "Yuq21pKeMZwd"
      },
      "outputs": [],
      "source": [
        "for item in output_json:\n",
        "    if item['type'] == 'integer' or item['type'] == 'float':\n",
        "        item['type'] = 'number'"
      ]
    },
    {
      "cell_type": "code",
      "execution_count": null,
      "metadata": {
        "colab": {
          "base_uri": "https://localhost:8080/"
        },
        "id": "FMA3hmZCMZwd",
        "outputId": "28e53aa6-815b-4fb2-fad2-2a56e25bb1aa"
      },
      "outputs": [
        {
          "output_type": "stream",
          "name": "stdout",
          "text": [
            "{'string', 'number'}\n"
          ]
        }
      ],
      "source": [
        "unique_types = {item['type'] for item in output_json}\n",
        "print(unique_types)"
      ]
    },
    {
      "cell_type": "code",
      "execution_count": null,
      "metadata": {
        "id": "o2FkQbIjMZwd"
      },
      "outputs": [],
      "source": [
        "# save the result as json file\n",
        "output_path = 'original_desciption_insomnia.json'\n",
        "try:\n",
        "  with open(output_path, 'w') as f:\n",
        "      json.dump(output_json, f, indent=4)\n",
        "except:\n",
        "  print(\"ERROR: output string is not in json style!\")"
      ]
    }
  ],
  "metadata": {
    "colab": {
      "provenance": [],
      "authorship_tag": "ABX9TyNMp4I5jv7H5QhhRv4Zx8Tg",
      "include_colab_link": true
    },
    "kernelspec": {
      "display_name": "Python 3",
      "name": "python3"
    },
    "language_info": {
      "name": "python"
    }
  },
  "nbformat": 4,
  "nbformat_minor": 0
}